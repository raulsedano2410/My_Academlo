{
 "cells": [
  {
   "cell_type": "markdown",
   "id": "423e48d2",
   "metadata": {},
   "source": [
    "# Que es el lenguaje de programación?\n",
    "\n",
    "Un lenguaje de programación es un sistema estructurado de comunicación, el cual esta conformado por conjunto de símbolos, palabras claves, reglas semánticas y sitácticas que permiten el entendimiento entre un programador y una máquina.\n",
    "\n",
    "* lenguaje de bajo nivel\n",
    "\n",
    " - Lenguaje maquina\n",
    " - Lenguaje ensamblador\n",
    "\n",
    "\n",
    "* Lenguaje de alto nivel  \n",
    "  Se traduce a lenguaje maquina\n",
    "  \n",
    " - interpretado\n",
    " - compilado"
   ]
  },
  {
   "cell_type": "markdown",
   "id": "84ffb8e0",
   "metadata": {},
   "source": [
    "# Un poco de historia...\n",
    "\n",
    "* Creado en 1995 por brendan Eich bajo el njombre de ¨Mocha¨\n",
    "* Proyecto de la emnpresa ¨Netscape¨\n",
    "* Posteriormente adoptó el nombre de ¨LiveScript¨ y más tarde llegó a su nombre definitivo:\n",
    "  JavaScript\n",
    "* Surge de la necedidad de un lenguaje de programación que se ejecutara en el navegadordel usuario.\n",
    "  Todo ocurría en el servidor\n",
    "* Proporciona interacción directa\n",
    "\n",
    "* En 1997  adopta el standar ECMAScript 1 (ES1) devido a diferencias entre implementaciones\n",
    "\n",
    "![](historiaJs.png)\n",
    "\n",
    "\n",
    "* Dato extra: *Las computadoras entan escritas en codigo binario*."
   ]
  },
  {
   "cell_type": "markdown",
   "id": "e72476a8",
   "metadata": {},
   "source": [
    "# Características importantes\n",
    "\n",
    "* Lenguaje de alto nivel e interpretado.\n",
    "* Lenguaje del lado del cliente.\n",
    "* Lenguaje multiparadigma\n",
    " - Orientado a ob jetos.\n",
    "* **De tipado débil o no tipado.**"
   ]
  },
  {
   "cell_type": "code",
   "execution_count": 1,
   "id": "afbef393",
   "metadata": {},
   "outputs": [],
   "source": [
    "/*\n",
    "pwd -> Indica la ruta actual de la terminal.\n",
    "\n",
    "cd -> Permite cambiar de carpeta: cd 'nombreDeLaCarpeta' (Ingresa a nombreDeLaCarpeta).\n",
    "\n",
    "cd .. -> Permite salir de la carpeta actual.\n",
    "\n",
    "mkdir -> Crea una nueva carpeta: mkdir 'nombreNuevaCarpeta'.\n",
    "\n",
    "ni -> Crea un nuevo archivo: ni 'nombreNuevoArchivo' (en powershell).\n",
    "\n",
    "touch -> crea un nuevo archivo (en bash, cmd, mac, linux).\n",
    "*/\n",
    "\n",
    "// Comentario de una sola linea\n",
    "\n",
    "/*\n",
    "Comentario \n",
    "de \n",
    "varias \n",
    "lineas\n",
    "*/"
   ]
  },
  {
   "cell_type": "markdown",
   "id": "6b5c2a12",
   "metadata": {},
   "source": [
    "***Variables***: Es un espaco en memoria donde se almacena un dato.\n",
    "\n",
    "\n",
    "***Palabras reservadas***:  terminos reservados para un uso especifico:\n",
    "\n",
    "```JavaScript\n",
    "var, let, const;\n",
    "\n",
    "var  nombreDeLaVariable = \"Informacion que quiero almacenar\"\n",
    "\n",
    "let nombreDeOtraVariable = 100 //alcanse/scope local\n",
    "\n",
    "const nombreDeUnaConstante = 9.8 //Const no permite Reasignacion\n",
    "```"
   ]
  },
  {
   "cell_type": "markdown",
   "id": "d2fdcd08",
   "metadata": {},
   "source": [
    "Llamar a la variable atraves de su nombre:\n",
    "\n",
    "```JavaScript\n",
    "var  nombreDeLaVariable = \"Informacion que quiero almacenar\"\n",
    "\n",
    "console.log(nombreDeLaVariable)\n",
    "\n",
    "//Escribir en la terminal: node + nombre del archivo con su extencion (.js)\n",
    "```\n",
    "![](terminal.png)"
   ]
  },
  {
   "cell_type": "markdown",
   "id": "3bcc98af",
   "metadata": {},
   "source": [
    "## TAREA MORAL: \n",
    "*Crear una variable donde tendran almacenado su nombre de pila.  \n",
    "De forma posterior Reasignaran esa variable para almacenar su nombre completo.  \n",
    "En una const tendran guardada su edad.  \n",
    "¿Que pasa si intentan cambiar su edad por un numero 100?*"
   ]
  },
  {
   "cell_type": "code",
   "execution_count": 2,
   "id": "9f40cea2",
   "metadata": {},
   "outputs": [
    {
     "data": {
      "text/plain": [
       "'Raul'"
      ]
     },
     "execution_count": 2,
     "metadata": {},
     "output_type": "execute_result"
    }
   ],
   "source": [
    "//Crear una variable donde tendran almacenado su nombre de pila.\n",
    "\n",
    "var name\n",
    "\n",
    "name = 'Raul'\n",
    "\n",
    "name"
   ]
  },
  {
   "cell_type": "code",
   "execution_count": 3,
   "id": "55b6bfd1",
   "metadata": {},
   "outputs": [
    {
     "data": {
      "text/plain": [
       "'Raul Sedano'"
      ]
     },
     "execution_count": 3,
     "metadata": {},
     "output_type": "execute_result"
    }
   ],
   "source": [
    "//De forma posterior Reasignaran esa variable para almacenar su nombre completo.\n",
    "\n",
    "name = 'Raul Sedano'\n",
    "\n",
    "name"
   ]
  },
  {
   "cell_type": "code",
   "execution_count": 4,
   "id": "1e41b8d7",
   "metadata": {},
   "outputs": [
    {
     "data": {
      "text/plain": [
       "35"
      ]
     },
     "execution_count": 4,
     "metadata": {},
     "output_type": "execute_result"
    }
   ],
   "source": [
    "// En una const tendran guardada su edad.\n",
    "\n",
    "const edad = 35\n",
    "\n",
    "edad"
   ]
  },
  {
   "cell_type": "code",
   "execution_count": 5,
   "id": "3dece956",
   "metadata": {},
   "outputs": [
    {
     "ename": "TypeError",
     "evalue": "Assignment to constant variable.",
     "output_type": "error",
     "traceback": [
      "evalmachine.<anonymous>:3",
      "edad = 100",
      "     ^",
      "",
      "TypeError: Assignment to constant variable.",
      "    at evalmachine.<anonymous>:3:6",
      "    at Script.runInThisContext (node:vm:129:12)",
      "    at Object.runInThisContext (node:vm:305:38)",
      "    at run ([eval]:1020:15)",
      "    at onRunRequest ([eval]:864:18)",
      "    at onMessage ([eval]:828:13)",
      "    at process.emit (node:events:527:28)",
      "    at emit (node:internal/child_process:938:14)",
      "    at processTicksAndRejections (node:internal/process/task_queues:84:21)"
     ]
    }
   ],
   "source": [
    "//¿Que pasa si intentan cambiar su edad por un numero 100?\n",
    "\n",
    "edad = 100\n",
    "\n",
    "edad"
   ]
  },
  {
   "cell_type": "code",
   "execution_count": 6,
   "id": "551f6c87",
   "metadata": {},
   "outputs": [],
   "source": [
    "//SyntaxError: El identificador 'edad' ya ha sido declarado"
   ]
  }
 ],
 "metadata": {
  "kernelspec": {
   "display_name": "JavaScript (Node.js)",
   "language": "javascript",
   "name": "javascript"
  },
  "language_info": {
   "file_extension": ".js",
   "mimetype": "application/javascript",
   "name": "javascript",
   "version": "16.15.0"
  }
 },
 "nbformat": 4,
 "nbformat_minor": 5
}
