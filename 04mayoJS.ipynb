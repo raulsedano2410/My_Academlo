{
 "cells": [
  {
   "cell_type": "markdown",
   "id": "0513c348",
   "metadata": {},
   "source": [
    "### Conversion de datos\n",
    "  Conversiones a tipo numero\n",
    " ```JavaScript\n",
    " parseInt(dato)//convierte el valor\n",
    " Number(dato)//convierte el tipo\n",
    " ```"
   ]
  },
  {
   "cell_type": "code",
   "execution_count": 1,
   "id": "1dd2df24",
   "metadata": {},
   "outputs": [
    {
     "name": "stdout",
     "output_type": "stream",
     "text": [
      "number\n"
     ]
    }
   ],
   "source": [
    "console.log(typeof(parseInt('100')))"
   ]
  },
  {
   "cell_type": "code",
   "execution_count": 2,
   "id": "87abb722",
   "metadata": {},
   "outputs": [
    {
     "name": "stdout",
     "output_type": "stream",
     "text": [
      "number\n"
     ]
    }
   ],
   "source": [
    "console.log(typeof(parseInt('Hola mundo')))"
   ]
  },
  {
   "cell_type": "code",
   "execution_count": 3,
   "id": "95edaebe",
   "metadata": {},
   "outputs": [
    {
     "name": "stdout",
     "output_type": "stream",
     "text": [
      "NaN\n"
     ]
    }
   ],
   "source": [
    "console.log(parseInt('Hola mundo!'))"
   ]
  },
  {
   "cell_type": "code",
   "execution_count": 4,
   "id": "0122c3c2",
   "metadata": {},
   "outputs": [
    {
     "name": "stdout",
     "output_type": "stream",
     "text": [
      "1\n"
     ]
    }
   ],
   "source": [
    "console.log(Number(true))"
   ]
  },
  {
   "cell_type": "code",
   "execution_count": 5,
   "id": "6849b8c3",
   "metadata": {},
   "outputs": [
    {
     "name": "stdout",
     "output_type": "stream",
     "text": [
      "0\n"
     ]
    }
   ],
   "source": [
    "console.log(Number(false))"
   ]
  },
  {
   "cell_type": "code",
   "execution_count": 6,
   "id": "6fa4dc6c",
   "metadata": {},
   "outputs": [
    {
     "name": "stdout",
     "output_type": "stream",
     "text": [
      "NaN\n"
     ]
    }
   ],
   "source": [
    "console.log(Number('Hola mundo!'))"
   ]
  },
  {
   "cell_type": "markdown",
   "id": "b633ffbf",
   "metadata": {},
   "source": [
    "### A string o cadena de texto\n",
    " - metodo\n",
    " ```javascript\n",
    "dato.metodo( informacion extra )\n",
    "dato.toString()\n",
    " ```"
   ]
  },
  {
   "cell_type": "code",
   "execution_count": 7,
   "id": "a9d946ea",
   "metadata": {},
   "outputs": [
    {
     "name": "stdout",
     "output_type": "stream",
     "text": [
      "string\n",
      "true\n"
     ]
    }
   ],
   "source": [
    "let numero = 100\n",
    "let variableBooleana = true\n",
    "\n",
    "numero = numero.toString()\n",
    "\n",
    "console.log( typeof( numero.toString()) )\n",
    "\n",
    "console.log( variableBooleana.toString() ) // \"true\""
   ]
  },
  {
   "cell_type": "code",
   "execution_count": 8,
   "id": "e28c92f4",
   "metadata": {
    "scrolled": true
   },
   "outputs": [
    {
     "name": "stdout",
     "output_type": "stream",
     "text": [
      "false\n",
      "true\n",
      "true\n"
     ]
    }
   ],
   "source": [
    "console.log(Boolean(0))\n",
    "console.log(Boolean(1))\n",
    "console.log(Boolean(50))"
   ]
  },
  {
   "cell_type": "markdown",
   "id": "04f0a069",
   "metadata": {},
   "source": [
    "### A booleanos\n",
    "```\n",
    "Boolean()\n",
    "```"
   ]
  },
  {
   "cell_type": "code",
   "execution_count": 9,
   "id": "df931029",
   "metadata": {},
   "outputs": [
    {
     "name": "stdout",
     "output_type": "stream",
     "text": [
      "false\n"
     ]
    }
   ],
   "source": [
    "console.log( Boolean( 0 ) )"
   ]
  },
  {
   "cell_type": "code",
   "execution_count": 10,
   "id": "8cbab220",
   "metadata": {
    "scrolled": true
   },
   "outputs": [
    {
     "name": "stdout",
     "output_type": "stream",
     "text": [
      "true\n"
     ]
    }
   ],
   "source": [
    "console.log( Boolean( 1 ) )"
   ]
  },
  {
   "cell_type": "code",
   "execution_count": 11,
   "id": "2280105d",
   "metadata": {
    "scrolled": true
   },
   "outputs": [
    {
     "name": "stdout",
     "output_type": "stream",
     "text": [
      "true\n"
     ]
    }
   ],
   "source": [
    "console.log( Boolean( 50 ) )"
   ]
  },
  {
   "cell_type": "code",
   "execution_count": 12,
   "id": "91177637",
   "metadata": {},
   "outputs": [
    {
     "name": "stdout",
     "output_type": "stream",
     "text": [
      "true\n"
     ]
    }
   ],
   "source": [
    "console.log( Boolean( [] ) )"
   ]
  },
  {
   "cell_type": "code",
   "execution_count": 13,
   "id": "48752796",
   "metadata": {},
   "outputs": [
    {
     "name": "stdout",
     "output_type": "stream",
     "text": [
      "false\n"
     ]
    }
   ],
   "source": [
    "console.log( Boolean( \"\" ) )"
   ]
  },
  {
   "cell_type": "code",
   "execution_count": 14,
   "id": "bb8f816e",
   "metadata": {},
   "outputs": [
    {
     "name": "stdout",
     "output_type": "stream",
     "text": [
      "true\n"
     ]
    }
   ],
   "source": [
    "console.log( Boolean( 0.1 ) )"
   ]
  },
  {
   "cell_type": "markdown",
   "id": "8819652f",
   "metadata": {},
   "source": [
    "### Truthy / Falsy\n",
    "  + Falsy:\n",
    "    Se entienden como falsos en un contexto booleano, aunque no sean de tipo booleano\n",
    "    + false\n",
    "    + \" \"\n",
    "    + 0\n",
    "    + -0\n",
    "    + null\n",
    "    + undefined\n",
    "+ Truty:\n",
    "  + Se evaluan como verdaderos en un contexto booleano\n",
    "    + \"Brenda\"\n",
    "    + [ ]\n",
    "    + { }\n",
    "    + 100\n",
    "    + -55"
   ]
  },
  {
   "cell_type": "code",
   "execution_count": 15,
   "id": "44396cea",
   "metadata": {},
   "outputs": [
    {
     "name": "stdout",
     "output_type": "stream",
     "text": [
      "false\n",
      "true\n",
      "true\n",
      "true\n"
     ]
    }
   ],
   "source": [
    "console.log(Boolean(\"\"))\n",
    "console.log(Boolean([]))\n",
    "console.log(Boolean(-50))\n",
    "console.log(Boolean(\"Brenda\"))"
   ]
  },
  {
   "cell_type": "markdown",
   "id": "fb5b97cd",
   "metadata": {},
   "source": [
    "# Operadores\n",
    "- Operando:\n",
    " - Es un número o una variable.\n",
    "- Operador:\n",
    " - Es un signo de operación(suma+, resta-, multiplicación*, division/, etcétera).\n",
    "- Unario:\n",
    " - Es un operador que recibe un operando y devuelve un resultado\n",
    "   ejemplo 'tipeof'\n",
    "- Binario:\n",
    " - Es un operador que recibe dos operandos y devulve un resultado.\n",
    "- Ternario:\n",
    " - trabaja con 3 operandos.\n",
    "- Operación:\n",
    " - Es una combinación de un operando y un operador.\n",
    "- Expreción:\n",
    " - Es una operación que se puede evaluar."
   ]
  },
  {
   "cell_type": "markdown",
   "id": "5ab2173e",
   "metadata": {},
   "source": [
    "### Operadores Aritmeticos\n",
    "\n",
    "Van a recibir numeros como operandos y van a devolver un numero como resultado."
   ]
  },
  {
   "cell_type": "code",
   "execution_count": 16,
   "id": "0f691cc6",
   "metadata": {},
   "outputs": [
    {
     "data": {
      "text/plain": [
       "-100"
      ]
     },
     "execution_count": 16,
     "metadata": {},
     "output_type": "execute_result"
    }
   ],
   "source": [
    "5 - '105'"
   ]
  },
  {
   "cell_type": "code",
   "execution_count": 17,
   "id": "9d0104f1",
   "metadata": {},
   "outputs": [
    {
     "name": "stdout",
     "output_type": "stream",
     "text": [
      "number\n"
     ]
    }
   ],
   "source": [
    "console.log(typeof(('nay' - 'HOLA')))"
   ]
  },
  {
   "cell_type": "code",
   "execution_count": 18,
   "id": "e00637e8",
   "metadata": {},
   "outputs": [
    {
     "data": {
      "text/plain": [
       "NaN"
      ]
     },
     "execution_count": 18,
     "metadata": {},
     "output_type": "execute_result"
    }
   ],
   "source": [
    "'JUAN'- 'RAUL'"
   ]
  },
  {
   "cell_type": "code",
   "execution_count": 19,
   "id": "d3e627be",
   "metadata": {},
   "outputs": [],
   "source": [
    "//Convercion Implita\n",
    "let a = 5 \n",
    "let b = 10"
   ]
  },
  {
   "cell_type": "code",
   "execution_count": 20,
   "id": "fc47b816",
   "metadata": {},
   "outputs": [
    {
     "name": "stdout",
     "output_type": "stream",
     "text": [
      "15\n",
      "-5\n",
      "50\n",
      "0.5\n",
      "9765625\n",
      "5\n"
     ]
    }
   ],
   "source": [
    "console.log( a + b)\n",
    "console.log( a - b)\n",
    "console.log( a * b)\n",
    "console.log( a / b)\n",
    "console.log( a ** b)\n",
    "console.log( a % b)"
   ]
  },
  {
   "cell_type": "code",
   "execution_count": 21,
   "id": "335e8e28",
   "metadata": {},
   "outputs": [
    {
     "data": {
      "text/plain": [
       "3.3333333333333335"
      ]
     },
     "execution_count": 21,
     "metadata": {},
     "output_type": "execute_result"
    }
   ],
   "source": [
    "10/3"
   ]
  },
  {
   "cell_type": "code",
   "execution_count": 22,
   "id": "8d888fc5",
   "metadata": {},
   "outputs": [
    {
     "data": {
      "text/plain": [
       "1"
      ]
     },
     "execution_count": 22,
     "metadata": {},
     "output_type": "execute_result"
    }
   ],
   "source": [
    "10 % 3"
   ]
  },
  {
   "cell_type": "code",
   "execution_count": 23,
   "id": "1902d940",
   "metadata": {},
   "outputs": [
    {
     "data": {
      "text/plain": [
       "0"
      ]
     },
     "execution_count": 23,
     "metadata": {},
     "output_type": "execute_result"
    }
   ],
   "source": [
    "15 % 5"
   ]
  },
  {
   "cell_type": "code",
   "execution_count": 24,
   "id": "60324280",
   "metadata": {},
   "outputs": [
    {
     "data": {
      "text/plain": [
       "33"
      ]
     },
     "execution_count": 24,
     "metadata": {},
     "output_type": "execute_result"
    }
   ],
   "source": [
    "Math.floor(100 / 3)"
   ]
  },
  {
   "cell_type": "code",
   "execution_count": 25,
   "id": "ba629128",
   "metadata": {},
   "outputs": [
    {
     "data": {
      "text/plain": [
       "33"
      ]
     },
     "execution_count": 25,
     "metadata": {},
     "output_type": "execute_result"
    }
   ],
   "source": [
    "Math.trunc(100 / 3)"
   ]
  },
  {
   "cell_type": "markdown",
   "id": "98007f7d",
   "metadata": {},
   "source": [
    "### Operadores de asignacion\n",
    "----- \n",
    "\n",
    "\n",
    "\n",
    "| Nombre | Operador abreviado | Significado |\n",
    "|:---|:---:|:---:|\n",
    "| Asigjnacion con suma | x += y | x = x + y |\n",
    "| Asigjnacion con resta | x -= y | x = x - y |\n",
    "| Asigjnacion con multiplicación | x \\*= y | x = x \\* y |\n",
    "| Asigjnacion con divición | x /= y | x = x / y |\n",
    "| Asigjnacion con potencia | x \\*\\*= y | x = x \\*\\* y |"
   ]
  },
  {
   "cell_type": "code",
   "execution_count": 26,
   "id": "528fae2c",
   "metadata": {},
   "outputs": [],
   "source": [
    "let n = 10  \t  \t \t \t\t"
   ]
  },
  {
   "cell_type": "code",
   "execution_count": 27,
   "id": "3c978940",
   "metadata": {},
   "outputs": [
    {
     "name": "stdout",
     "output_type": "stream",
     "text": [
      "15\n"
     ]
    }
   ],
   "source": [
    "console.log( n += 5) //Asigjnacion con suma"
   ]
  },
  {
   "cell_type": "code",
   "execution_count": 28,
   "id": "4f905548",
   "metadata": {},
   "outputs": [
    {
     "name": "stdout",
     "output_type": "stream",
     "text": [
      "10\n"
     ]
    }
   ],
   "source": [
    "console.log( n -= 5) //Asigjnacion con resta"
   ]
  },
  {
   "cell_type": "code",
   "execution_count": 29,
   "id": "fff54df8",
   "metadata": {},
   "outputs": [
    {
     "name": "stdout",
     "output_type": "stream",
     "text": [
      "50\n"
     ]
    }
   ],
   "source": [
    "console.log( n *= 5) //Asigjnacion con multiplicación"
   ]
  },
  {
   "cell_type": "code",
   "execution_count": 30,
   "id": "b390c6b8",
   "metadata": {},
   "outputs": [
    {
     "name": "stdout",
     "output_type": "stream",
     "text": [
      "10\n"
     ]
    }
   ],
   "source": [
    "console.log( n /= 5) //Asigjnacion con divición"
   ]
  },
  {
   "cell_type": "code",
   "execution_count": 31,
   "id": "4008b9c8",
   "metadata": {},
   "outputs": [
    {
     "name": "stdout",
     "output_type": "stream",
     "text": [
      "100000\n"
     ]
    }
   ],
   "source": [
    "console.log( n **= 5) //Asigjnacion con potencia."
   ]
  },
  {
   "cell_type": "markdown",
   "id": "dbb4262c",
   "metadata": {},
   "source": [
    "### Operadores de comparacion\n",
    "|Nombre|Operador|Significado|\n",
    "|:---|:---:|:---:|\n",
    "|Igual|==|a == b|\n",
    "|Distinto|!=|a != b|\n",
    "|Mayor que|>|a > b|\n",
    "|Menor que|<|a < b|\n",
    "|Mayor o igual que|>=|a >= b|\n",
    "|Menor o igual que|<=|a <= b|\n",
    "|Estrictamente igual|===|a === b|\n",
    "|Estrictamente distinto|!==|a !== b|\n",
    "\n",
    "> *Van a recibir cualquier tipo de dato como operandos,  \n",
    "y como resultado van adevolver un booleano*"
   ]
  },
  {
   "cell_type": "code",
   "execution_count": 32,
   "id": "db0e4d5d",
   "metadata": {},
   "outputs": [
    {
     "name": "stdout",
     "output_type": "stream",
     "text": [
      "true\n"
     ]
    }
   ],
   "source": [
    "console.log( 5 == 5)"
   ]
  },
  {
   "cell_type": "code",
   "execution_count": 33,
   "id": "4d55afc3",
   "metadata": {},
   "outputs": [
    {
     "name": "stdout",
     "output_type": "stream",
     "text": [
      "false\n"
     ]
    }
   ],
   "source": [
    "console.log( 5 == \"cinco\")"
   ]
  },
  {
   "cell_type": "code",
   "execution_count": 34,
   "id": "e7212505",
   "metadata": {},
   "outputs": [
    {
     "name": "stdout",
     "output_type": "stream",
     "text": [
      "true\n"
     ]
    }
   ],
   "source": [
    "console.log( 5 == '5')"
   ]
  },
  {
   "cell_type": "code",
   "execution_count": 35,
   "id": "6c835945",
   "metadata": {},
   "outputs": [
    {
     "name": "stdout",
     "output_type": "stream",
     "text": [
      "false\n"
     ]
    }
   ],
   "source": [
    "console.log( 5 === '5')"
   ]
  },
  {
   "cell_type": "code",
   "execution_count": 36,
   "id": "1fddefef",
   "metadata": {},
   "outputs": [
    {
     "name": "stdout",
     "output_type": "stream",
     "text": [
      "false\n"
     ]
    }
   ],
   "source": [
    "console.log( 'RAUL' == 'raul')"
   ]
  },
  {
   "cell_type": "code",
   "execution_count": 37,
   "id": "a24b5457",
   "metadata": {},
   "outputs": [
    {
     "name": "stdout",
     "output_type": "stream",
     "text": [
      "false\n"
     ]
    }
   ],
   "source": [
    "console.log( 'RAUL' === 'raul')"
   ]
  },
  {
   "cell_type": "code",
   "execution_count": 38,
   "id": "4a4dce44",
   "metadata": {},
   "outputs": [
    {
     "name": "stdout",
     "output_type": "stream",
     "text": [
      "true\n"
     ]
    }
   ],
   "source": [
    "console.log( null == undefined)"
   ]
  },
  {
   "cell_type": "code",
   "execution_count": 39,
   "id": "759ed44a",
   "metadata": {},
   "outputs": [
    {
     "name": "stdout",
     "output_type": "stream",
     "text": [
      "false\n"
     ]
    }
   ],
   "source": [
    "console.log( null === undefined)"
   ]
  },
  {
   "cell_type": "code",
   "execution_count": 40,
   "id": "b33d622f",
   "metadata": {},
   "outputs": [
    {
     "name": "stdout",
     "output_type": "stream",
     "text": [
      "false\n"
     ]
    }
   ],
   "source": [
    "console.log( 'brenda' < 'BRENDA')"
   ]
  },
  {
   "cell_type": "code",
   "execution_count": 41,
   "id": "0c74ae2f",
   "metadata": {},
   "outputs": [
    {
     "name": "stdout",
     "output_type": "stream",
     "text": [
      "true\n"
     ]
    }
   ],
   "source": [
    "console.log( 'BRENDA' < 'brenda')"
   ]
  },
  {
   "cell_type": "markdown",
   "id": "99102ead",
   "metadata": {},
   "source": [
    "### Tarea Moral\n",
    "\n",
    "Les dejo la tarea moral de hoy: La idea es que sin usar console.log() determinen que resultado arrojan las siguientes operaciones.\n",
    "Puntos extra si justifican su respuesta.\n",
    " \n",
    "- 5 < 4\n",
    "- \"gato\" < \"unicornio\" \n",
    "- \"3\" < \"12\"\n",
    "- \"unicornio\" < \"unicornio\"\n",
    "- \"false\" == false\n",
    "- true === true\n",
    "- false == \"\"\n",
    "- false === 0\n",
    "- true == \"true\"\n",
    "- undefined < null"
   ]
  },
  {
   "cell_type": "code",
   "execution_count": 42,
   "id": "106d9b68",
   "metadata": {
    "scrolled": true
   },
   "outputs": [
    {
     "name": "stdout",
     "output_type": "stream",
     "text": [
      "false\n"
     ]
    }
   ],
   "source": [
    "console.log( 5 < 4 )//Obiamente numero mayor."
   ]
  },
  {
   "cell_type": "code",
   "execution_count": 43,
   "id": "abfe14f8",
   "metadata": {},
   "outputs": [
    {
     "name": "stdout",
     "output_type": "stream",
     "text": [
      "true\n"
     ]
    }
   ],
   "source": [
    "console.log( \"gato\" < \"unicornio\" )// Valores unicode de letras g == 67 vs u == 75."
   ]
  },
  {
   "cell_type": "code",
   "execution_count": 44,
   "id": "8921edc5",
   "metadata": {
    "scrolled": true
   },
   "outputs": [
    {
     "name": "stdout",
     "output_type": "stream",
     "text": [
      "false\n"
     ]
    }
   ],
   "source": [
    "console.log( \"3\" < \"12\" )// Valores unicode de numeros (Strings)letras 3 == 33 vs 1 == 31."
   ]
  },
  {
   "cell_type": "code",
   "execution_count": 45,
   "id": "78d94d2f",
   "metadata": {
    "scrolled": true
   },
   "outputs": [
    {
     "name": "stdout",
     "output_type": "stream",
     "text": [
      "false\n"
     ]
    }
   ],
   "source": [
    "console.log( \"unicornio\" < \"unicornio\" )// Valores unicode de letras u == 75 vs u == 75."
   ]
  },
  {
   "cell_type": "code",
   "execution_count": 46,
   "id": "7bba1d38",
   "metadata": {
    "scrolled": true
   },
   "outputs": [
    {
     "name": "stdout",
     "output_type": "stream",
     "text": [
      "false\n"
     ]
    }
   ],
   "source": [
    "console.log( \"false\" == false )// Booleano y strean(*con caracteres) no tienen comparacion, siempre dara false."
   ]
  },
  {
   "cell_type": "code",
   "execution_count": 47,
   "id": "556d7700",
   "metadata": {},
   "outputs": [
    {
     "name": "stdout",
     "output_type": "stream",
     "text": [
      "true\n"
     ]
    }
   ],
   "source": [
    "console.log( true === true )// Estrictamente igual."
   ]
  },
  {
   "cell_type": "code",
   "execution_count": 48,
   "id": "5c4bc521",
   "metadata": {},
   "outputs": [
    {
     "name": "stdout",
     "output_type": "stream",
     "text": [
      "true\n"
     ]
    }
   ],
   "source": [
    "console.log( false == \"\" )// false == 0 vs string vacio == 0."
   ]
  },
  {
   "cell_type": "code",
   "execution_count": 49,
   "id": "4454d778",
   "metadata": {},
   "outputs": [
    {
     "name": "stdout",
     "output_type": "stream",
     "text": [
      "false\n"
     ]
    }
   ],
   "source": [
    "console.log( false === 0 )// Mismo valor numerico pero diferente clase ."
   ]
  },
  {
   "cell_type": "code",
   "execution_count": 50,
   "id": "f27547a5",
   "metadata": {
    "scrolled": true
   },
   "outputs": [
    {
     "name": "stdout",
     "output_type": "stream",
     "text": [
      "false\n"
     ]
    }
   ],
   "source": [
    "console.log( true == \"true\" )// Booleano y strean(*con caracteres) no tienen comparacion, siempre dara false."
   ]
  },
  {
   "cell_type": "code",
   "execution_count": 51,
   "id": "a2e6fda4",
   "metadata": {},
   "outputs": [
    {
     "name": "stdout",
     "output_type": "stream",
     "text": [
      "true\n"
     ]
    }
   ],
   "source": [
    "console.log( undefined == null )// Numericamente son iguales undefined == 0 vs null == 0."
   ]
  },
  {
   "cell_type": "code",
   "execution_count": 52,
   "id": "b34021fe",
   "metadata": {},
   "outputs": [],
   "source": [
    "//Gracias por llegar hasta aqui :D"
   ]
  }
 ],
 "metadata": {
  "kernelspec": {
   "display_name": "JavaScript (Node.js)",
   "language": "javascript",
   "name": "javascript"
  },
  "language_info": {
   "file_extension": ".js",
   "mimetype": "application/javascript",
   "name": "javascript",
   "version": "16.15.0"
  }
 },
 "nbformat": 4,
 "nbformat_minor": 5
}
