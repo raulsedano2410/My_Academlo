{
 "cells": [
  {
   "cell_type": "markdown",
   "id": "b7e7f22f",
   "metadata": {},
   "source": [
    "## Analogia de una variable\n",
    "\n",
    "***\n",
    "\n",
    "\n",
    "![](images/analogia.png)"
   ]
  },
  {
   "cell_type": "markdown",
   "id": "d13f2869",
   "metadata": {},
   "source": [
    "## Palabras reservadas:\n",
    "\n",
    "```JavaScript\n",
    "\n",
    "var, let, const\n",
    "```\n",
    "* **var:**\n",
    "\n",
    " - Fue la primera variable que se introdujo,\n",
    " - Crea variables pero esta obsoleta\n",
    " - Por buneas practicas devemos saber que 'var' esta obsoleto y no se deve usar en nuestros proyectos.\n",
    "\n",
    "\n"
   ]
  },
  {
   "cell_type": "markdown",
   "id": "f011b889",
   "metadata": {},
   "source": [
    "+ Antes se podia declarar multiples veces la misma variable con el uso de 'var'  \n",
    "  esto causaba problemas en los proyectos y fue desplasada por 'let'(por el año 2010)."
   ]
  },
  {
   "cell_type": "code",
   "execution_count": 1,
   "id": "108f5682",
   "metadata": {},
   "outputs": [
    {
     "name": "stdout",
     "output_type": "stream",
     "text": [
      "Otro valor\n"
     ]
    }
   ],
   "source": [
    "var nombreUsuario = \"brenda\"\n",
    "\n",
    "var nombreUsuario = \"Otro valor\"\n",
    "\n",
    "console.log(nombreUsuario)"
   ]
  },
  {
   "cell_type": "markdown",
   "id": "19256e18",
   "metadata": {},
   "source": [
    "+ **let:**\n",
    " + Solo se puede declarar una vez, al igual que 'var' se puede reasignar múltiples veces."
   ]
  },
  {
   "cell_type": "code",
   "execution_count": 2,
   "id": "c1a2f5d6",
   "metadata": {
    "scrolled": false
   },
   "outputs": [
    {
     "ename": "SyntaxError",
     "evalue": "Identifier 'nombreAlumno' has already been declared",
     "output_type": "error",
     "traceback": [
      "evalmachine.<anonymous>:3",
      "let nombreAlumno = \"Fernando De Laurentis\"",
      "    ^",
      "",
      "SyntaxError: Identifier 'nombreAlumno' has already been declared",
      "    at new Script (node:vm:100:7)",
      "    at createScript (node:vm:257:10)",
      "    at Object.runInThisContext (node:vm:305:10)",
      "    at run ([eval]:1020:15)",
      "    at onRunRequest ([eval]:864:18)",
      "    at onMessage ([eval]:828:13)",
      "    at process.emit (node:events:527:28)",
      "    at emit (node:internal/child_process:938:14)",
      "    at processTicksAndRejections (node:internal/process/task_queues:84:21)"
     ]
    }
   ],
   "source": [
    "let nombreAlumno = \"Fernando\"\n",
    "\n",
    "let nombreAlumno = \"Fernando De Laurentis\""
   ]
  },
  {
   "cell_type": "code",
   "execution_count": 3,
   "id": "6dbc55c6",
   "metadata": {},
   "outputs": [],
   "source": [
    "// SyntaxError: Identifier 'nombreAlumno' has already been declared --> SyntaxError:\n",
    "// Ya se ha declarado el identificador 'nombreAlumno'"
   ]
  },
  {
   "cell_type": "markdown",
   "id": "89815c3c",
   "metadata": {},
   "source": [
    "+ **const:**\n",
    " + Se  declarar una sola vez.\n",
    " + Declara variables que solo son de lectura.\n",
    " + No es posible reasignarlas.\n",
    " + Tienen alcance local."
   ]
  },
  {
   "cell_type": "code",
   "execution_count": 4,
   "id": "a29e6c7e",
   "metadata": {},
   "outputs": [
    {
     "name": "stdout",
     "output_type": "stream",
     "text": [
      "100\n"
     ]
    }
   ],
   "source": [
    "const edad = 100\n",
    "const gravedad = 9.8\n",
    "\n",
    "\n",
    "console.log( edad )"
   ]
  },
  {
   "cell_type": "code",
   "execution_count": 5,
   "id": "69440c90",
   "metadata": {},
   "outputs": [
    {
     "ename": "TypeError",
     "evalue": "Assignment to constant variable.",
     "output_type": "error",
     "traceback": [
      "evalmachine.<anonymous>:1",
      "edad = 900",
      "     ^",
      "",
      "TypeError: Assignment to constant variable.",
      "    at evalmachine.<anonymous>:1:6",
      "    at Script.runInThisContext (node:vm:129:12)",
      "    at Object.runInThisContext (node:vm:305:38)",
      "    at run ([eval]:1020:15)",
      "    at onRunRequest ([eval]:864:18)",
      "    at onMessage ([eval]:828:13)",
      "    at process.emit (node:events:527:28)",
      "    at emit (node:internal/child_process:938:14)",
      "    at processTicksAndRejections (node:internal/process/task_queues:84:21)"
     ]
    }
   ],
   "source": [
    "edad = 900"
   ]
  },
  {
   "cell_type": "code",
   "execution_count": 6,
   "id": "bd288f2b",
   "metadata": {},
   "outputs": [],
   "source": [
    "// TypeError: Assignment to constant variable. -->TypeError: Asignación a variable constante."
   ]
  },
  {
   "cell_type": "markdown",
   "id": "e64857cf",
   "metadata": {},
   "source": [
    "## Tipos de datos\n",
    "+ Datos primitivos:\n",
    " - String / Cadenas de texto\n",
    " - Number / Numericos\n",
    " - Booleanos\n",
    " - Null\n",
    " - Undefined"
   ]
  },
  {
   "cell_type": "markdown",
   "id": "e9ca4825",
   "metadata": {},
   "source": [
    "### 1- String (Cadena de texto):\n",
    " + Los espacios son conciderados cadena de texto."
   ]
  },
  {
   "cell_type": "code",
   "execution_count": 7,
   "id": "cba64928",
   "metadata": {},
   "outputs": [
    {
     "data": {
      "text/plain": [
       "'Esta es unacadena de texto'"
      ]
     },
     "execution_count": 7,
     "metadata": {},
     "output_type": "execute_result"
    }
   ],
   "source": [
    "\"Esta es unacadena de texto\""
   ]
  },
  {
   "cell_type": "markdown",
   "id": "99bab320",
   "metadata": {},
   "source": [
    "* Puedo utilizar tres tipos de comillas distintos.  \n",
    " + Comillas dobles:\n",
    "```JavaScript\n",
    "\"Hola mundo!\"\n",
    "```\n",
    " + Comillas simples:\n",
    "```JavaScript\n",
    "'Hola mundo!'\n",
    "```\n",
    " + Backticks(comillas invertidas).\n",
    "   Generan un template strings.\n",
    "```JavaScript\n",
    "`Hola mundo!`\n",
    "```"
   ]
  },
  {
   "cell_type": "code",
   "execution_count": 8,
   "id": "e0adf1c1",
   "metadata": {},
   "outputs": [
    {
     "name": "stdout",
     "output_type": "stream",
     "text": [
      "El resultado de la suma es 5\n"
     ]
    }
   ],
   "source": [
    "console.log(`El resultado de la suma es ${ 2 + 3 }`)"
   ]
  },
  {
   "cell_type": "code",
   "execution_count": 9,
   "id": "08192d13",
   "metadata": {},
   "outputs": [
    {
     "name": "stdout",
     "output_type": "stream",
     "text": [
      "El resultado de la suma es ${ 2 + 3 }\n"
     ]
    }
   ],
   "source": [
    "console.log('El resultado de la suma es ${ 2 + 3 }')"
   ]
  },
  {
   "cell_type": "code",
   "execution_count": 10,
   "id": "08a2daa5",
   "metadata": {},
   "outputs": [],
   "source": [
    "let cadenaDeTexto = \"¡Hola mundo!\""
   ]
  },
  {
   "cell_type": "markdown",
   "id": "788cbc80",
   "metadata": {},
   "source": [
    "- Simbolos especiales:\n",
    "```JavaScript\n",
    " ! ¿ , . $ #\n",
    "```\n",
    "- Los espacios tambien cuentan.\n",
    "- Letras y números:\n",
    "```JavaScript \n",
    " a, b, A, B, 10, 100\n",
    "```"
   ]
  },
  {
   "cell_type": "markdown",
   "id": "6f7b224f",
   "metadata": {},
   "source": [
    "\n",
    "Indices:\n",
    " ```JavaScript\n",
    "// 0  1  2   3   4   5   6   7   8   9   10  11 \n",
    "// ¡  H  o   l   a       m   u   n   d   o   ! \n",
    "\n",
    " ```"
   ]
  },
  {
   "cell_type": "code",
   "execution_count": 11,
   "id": "af2026f1",
   "metadata": {},
   "outputs": [
    {
     "name": "stdout",
     "output_type": "stream",
     "text": [
      "l\n"
     ]
    }
   ],
   "source": [
    "//Cadena de texto[indice]\n",
    "let caracterIndice3 = cadenaDeTexto[3]\n",
    "console.log( caracterIndice3 )"
   ]
  },
  {
   "cell_type": "markdown",
   "id": "c918b8f8",
   "metadata": {},
   "source": [
    "+ Propiedades--> Caracteriza el dato.\n",
    "+ length (Longitud) --> cantidad total de caracteres que conforman a una cadena de texto.\n",
    "+ Dato.propiedad"
   ]
  },
  {
   "cell_type": "code",
   "execution_count": 12,
   "id": "ee8ee151",
   "metadata": {},
   "outputs": [
    {
     "name": "stdout",
     "output_type": "stream",
     "text": [
      "12\n"
     ]
    }
   ],
   "source": [
    "let longitudCadenaDeTexto = cadenaDeTexto.length\n",
    "console.log( longitudCadenaDeTexto )"
   ]
  },
  {
   "cell_type": "code",
   "execution_count": 13,
   "id": "a71326de",
   "metadata": {},
   "outputs": [],
   "source": [
    "let numeroString = \"100\""
   ]
  },
  {
   "cell_type": "markdown",
   "id": "268f1273",
   "metadata": {},
   "source": [
    "### 2. Number(Numeros):\n",
    " + Representran números enteros, flotantes(con decimal), positivos y negativos."
   ]
  },
  {
   "cell_type": "code",
   "execution_count": 14,
   "id": "e6f445c8",
   "metadata": {},
   "outputs": [],
   "source": [
    "let numeroEntero = 5\n",
    "let numeroFlotante = 5.8\n",
    "let numeroNegativo = -10"
   ]
  },
  {
   "cell_type": "markdown",
   "id": "0bd9fa75",
   "metadata": {},
   "source": [
    "+ Tipos de numeros especiales:\n",
    " + Infinity\n",
    " + -Infinity\n",
    " + NaN --> Not a Number"
   ]
  },
  {
   "cell_type": "code",
   "execution_count": 15,
   "id": "74c0b8f0",
   "metadata": {},
   "outputs": [
    {
     "name": "stdout",
     "output_type": "stream",
     "text": [
      "NaN\n"
     ]
    }
   ],
   "source": [
    "console.log(\"esta es un string\" * 5)"
   ]
  },
  {
   "cell_type": "code",
   "execution_count": 16,
   "id": "8ba5cd62",
   "metadata": {},
   "outputs": [
    {
     "name": "stdout",
     "output_type": "stream",
     "text": [
      "NaN\n"
     ]
    }
   ],
   "source": [
    "console.log(\"esta es un string\" * \"otro string\")"
   ]
  },
  {
   "cell_type": "code",
   "execution_count": 17,
   "id": "2851eace",
   "metadata": {},
   "outputs": [
    {
     "name": "stdout",
     "output_type": "stream",
     "text": [
      "-50\n"
     ]
    }
   ],
   "source": [
    "console.log(numeroEntero * numeroNegativo)//5 * -10"
   ]
  },
  {
   "cell_type": "code",
   "execution_count": 18,
   "id": "158b0f1c",
   "metadata": {},
   "outputs": [
    {
     "name": "stdout",
     "output_type": "stream",
     "text": [
      "Infinity\n"
     ]
    }
   ],
   "source": [
    "console.log(100/0)"
   ]
  },
  {
   "cell_type": "code",
   "execution_count": 19,
   "id": "60c16578",
   "metadata": {},
   "outputs": [
    {
     "name": "stdout",
     "output_type": "stream",
     "text": [
      "0\n"
     ]
    }
   ],
   "source": [
    "console.log(0/100)"
   ]
  },
  {
   "cell_type": "markdown",
   "id": "c18adf94",
   "metadata": {
    "collapsed": true
   },
   "source": [
    "### 3. Booleanos:\n",
    "+ Nos confirman si es verdadero o falso\n",
    "+ Tienen 2 valores: true y false"
   ]
  },
  {
   "cell_type": "code",
   "execution_count": 20,
   "id": "5ecf4871",
   "metadata": {
    "scrolled": true
   },
   "outputs": [],
   "source": [
    "let booleanoTrue = true\n",
    "let booleanoFalse = false\n",
    "let esquemaDeVacunacionCompleto = true"
   ]
  },
  {
   "cell_type": "code",
   "execution_count": 21,
   "id": "abe4137a",
   "metadata": {},
   "outputs": [
    {
     "name": "stdout",
     "output_type": "stream",
     "text": [
      "true\n",
      "false\n"
     ]
    }
   ],
   "source": [
    "console.log(10 < 15)\n",
    "console.log(10 < -15)"
   ]
  },
  {
   "cell_type": "markdown",
   "id": "b6c09c74",
   "metadata": {},
   "source": [
    "### 4. Null y Undefined\n",
    "+ Ausencia de valor significativo."
   ]
  },
  {
   "cell_type": "code",
   "execution_count": 22,
   "id": "fb36f28d",
   "metadata": {},
   "outputs": [
    {
     "data": {
      "text/plain": [
       "null"
      ]
     },
     "execution_count": 22,
     "metadata": {},
     "output_type": "execute_result"
    }
   ],
   "source": [
    "let nombreDelMejorAlumno = null\n",
    "nombreDelMejorAlumno"
   ]
  },
  {
   "cell_type": "code",
   "execution_count": 23,
   "id": "e576aacc",
   "metadata": {},
   "outputs": [
    {
     "data": {
      "text/plain": [
       "null"
      ]
     },
     "execution_count": 23,
     "metadata": {},
     "output_type": "execute_result"
    }
   ],
   "source": [
    "c = \"Juanito Perez\"\n",
    "nombreDelMejorAlumno"
   ]
  },
  {
   "cell_type": "code",
   "execution_count": 24,
   "id": "9e39c771",
   "metadata": {},
   "outputs": [
    {
     "name": "stdout",
     "output_type": "stream",
     "text": [
      "null\n",
      "undefined\n"
     ]
    }
   ],
   "source": [
    " let variableSinIniciar\n",
    " console.log(nombreDelMejorAlumno)\n",
    " console.log(variableSinIniciar)"
   ]
  },
  {
   "cell_type": "code",
   "execution_count": 25,
   "id": "092d488d",
   "metadata": {},
   "outputs": [
    {
     "name": "stdout",
     "output_type": "stream",
     "text": [
      "10\n",
      "NaN\n"
     ]
    }
   ],
   "source": [
    " console.log(10 - null)\n",
    " console.log(10 + undefined)"
   ]
  },
  {
   "cell_type": "markdown",
   "id": "38ec75c9",
   "metadata": {},
   "source": [
    "### Analogia de tipos de datos\n",
    "-----\n",
    "![](images/anlogia2.png)"
   ]
  },
  {
   "cell_type": "markdown",
   "id": "215eba70",
   "metadata": {},
   "source": [
    "### Operador typeof()\n"
   ]
  },
  {
   "cell_type": "code",
   "execution_count": 26,
   "id": "d8f9686f",
   "metadata": {},
   "outputs": [
    {
     "name": "stdout",
     "output_type": "stream",
     "text": [
      "number\n"
     ]
    }
   ],
   "source": [
    " console.log(typeof(100))"
   ]
  },
  {
   "cell_type": "code",
   "execution_count": 27,
   "id": "fb0daa67",
   "metadata": {},
   "outputs": [
    {
     "name": "stdout",
     "output_type": "stream",
     "text": [
      "boolean\n"
     ]
    }
   ],
   "source": [
    " console.log(typeof(5 < 6))"
   ]
  },
  {
   "cell_type": "code",
   "execution_count": 28,
   "id": "857fe180",
   "metadata": {},
   "outputs": [
    {
     "name": "stdout",
     "output_type": "stream",
     "text": [
      "number\n"
     ]
    }
   ],
   "source": [
    " console.log(typeof(10 - null))"
   ]
  },
  {
   "cell_type": "code",
   "execution_count": 29,
   "id": "d554a637",
   "metadata": {},
   "outputs": [
    {
     "name": "stdout",
     "output_type": "stream",
     "text": [
      "number\n"
     ]
    }
   ],
   "source": [
    " console.log(typeof(10 + undefined))"
   ]
  },
  {
   "cell_type": "markdown",
   "id": "0755828c",
   "metadata": {},
   "source": [
    "## TAREA MORAL: \n",
    "\n",
    "//Declarar 3 variables distintas.\n",
    "//En una van a guardar nombre de pila\n",
    "//En otra sus apellidos\n",
    "//En la ultima su edad\n",
    "//Van a crear una cadena de texto donde se van a presentar usando los 3 datos almacenados en las variables:\n",
    "//ejempl:\n",
    "//Hola mundo! me llamo <Fulanito> <perez>, soy de <pais> y tengo <27> años\n",
    "//esta presentacion la mostraran por la terminal"
   ]
  },
  {
   "cell_type": "code",
   "execution_count": 30,
   "id": "914b394f",
   "metadata": {},
   "outputs": [],
   "source": [
    "//En una van a guardar nombre de pila\n",
    "let name = 'Raul'\n",
    "\n",
    "//En otra sus apellidos\n",
    "let lastName = 'Sedano Molina'\n",
    "\n",
    "//En la ultima su edad.\n",
    "let age = 35\n",
    "\n",
    "//Lugar de origen.\n",
    "let country = 'Peru'\n",
    "\n",
    "//Van a crear una cadena de texto donde se van a presentar usando los 3 datos almacenados en las variables\n",
    "//Hola mundo! me llamo <Fulanito> <perez>, soy de <pais> y tengo <27> años\n",
    "let allChains = `Hola mundo! me llamo ${name} ${lastName}, soy de ${country} y tengo ${age} años de edad.`"
   ]
  },
  {
   "cell_type": "code",
   "execution_count": 31,
   "id": "611e9997",
   "metadata": {},
   "outputs": [
    {
     "name": "stdout",
     "output_type": "stream",
     "text": [
      "Hola mundo! me llamo Raul Sedano Molina, soy de Peru y tengo 35 años de edad.\n"
     ]
    }
   ],
   "source": [
    "console.log(allChains)"
   ]
  },
  {
   "cell_type": "code",
   "execution_count": null,
   "id": "45c2c96e",
   "metadata": {},
   "outputs": [],
   "source": []
  }
 ],
 "metadata": {
  "kernelspec": {
   "display_name": "JavaScript (Node.js)",
   "language": "javascript",
   "name": "javascript"
  },
  "language_info": {
   "file_extension": ".js",
   "mimetype": "application/javascript",
   "name": "javascript",
   "version": "16.15.0"
  }
 },
 "nbformat": 4,
 "nbformat_minor": 5
}
