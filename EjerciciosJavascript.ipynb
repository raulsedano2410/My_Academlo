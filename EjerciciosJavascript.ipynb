{
 "cells": [
  {
   "cell_type": "markdown",
   "id": "55209cf8",
   "metadata": {},
   "source": [
    "Introducción a Javascript, Quiz\n",
    "#  Ejercicio 1 – creando variables\n",
    "Crear variables para guardar los siguientes datos de una persona:\n",
    "\n",
    "* Nombre\n",
    "* Apellidos\n",
    "* Edad\n",
    "* Ciudad\n",
    "* Asignar valores a las variables creadas.\n",
    "\n",
    "\n",
    "Al finalizar enviar un archivo o imagen con lo descrito anteriormente a erik@academlo.com"
   ]
  },
  {
   "cell_type": "code",
   "execution_count": 1,
   "id": "db9a7d11",
   "metadata": {},
   "outputs": [],
   "source": [
    "var name = 'Raùl';\n",
    "var lastName = 'Sedano';\n",
    "var edad = 35;\n",
    "var ciudad = 'Lima'\n"
   ]
  },
  {
   "cell_type": "code",
   "execution_count": 2,
   "id": "a8cc9e30",
   "metadata": {},
   "outputs": [],
   "source": [
    "var datos = name + ' ' + lastName + ',' + edad + ',' + ciudad"
   ]
  },
  {
   "cell_type": "code",
   "execution_count": 3,
   "id": "803d2a07",
   "metadata": {},
   "outputs": [
    {
     "data": {
      "text/plain": [
       "'Raùl Sedano,35,Lima'"
      ]
     },
     "execution_count": 3,
     "metadata": {},
     "output_type": "execute_result"
    }
   ],
   "source": [
    "datos"
   ]
  },
  {
   "cell_type": "code",
   "execution_count": 4,
   "id": "9c301f33",
   "metadata": {},
   "outputs": [
    {
     "ename": "ReferenceError",
     "evalue": "nombre is not defined",
     "output_type": "error",
     "traceback": [
      "evalmachine.<anonymous>:1",
      "nombre + ' ' + apellido",
      "^",
      "",
      "ReferenceError: nombre is not defined",
      "    at evalmachine.<anonymous>:1:1",
      "    at Script.runInThisContext (vm.js:120:18)",
      "    at Object.runInThisContext (vm.js:309:38)",
      "    at run ([eval]:1020:15)",
      "    at onRunRequest ([eval]:864:18)",
      "    at onMessage ([eval]:828:13)",
      "    at process.emit (events.js:314:20)",
      "    at emit (internal/child_process.js:877:12)",
      "    at processTicksAndRejections (internal/process/task_queues.js:85:21)"
     ]
    }
   ],
   "source": [
    "nombre + ' ' + apellido"
   ]
  },
  {
   "cell_type": "markdown",
   "id": "9c4be3c4",
   "metadata": {},
   "source": [
    "Introducción a Javascript, Quiz\n",
    "# Ejercicio 2 – Sumando los valores de un arreglo\n",
    "Crear un array con 5 valores numericos y sumar todos esos valores accediendolos mediante las posiciones\n",
    "\n",
    "\n",
    "Al finalizar enviar un archivo o imagen con lo descrito anteriormente a erik@academlo.com"
   ]
  },
  {
   "cell_type": "code",
   "execution_count": 5,
   "id": "8cef2f56",
   "metadata": {},
   "outputs": [],
   "source": [
    "var array = [12, 23, 34, 45, 56]"
   ]
  },
  {
   "cell_type": "code",
   "execution_count": 6,
   "id": "bd82b0cb",
   "metadata": {},
   "outputs": [],
   "source": [
    "var arraySuma = array[4] + array[3] + array[2] + array[1] + array[0]"
   ]
  },
  {
   "cell_type": "code",
   "execution_count": 7,
   "id": "75341c16",
   "metadata": {},
   "outputs": [
    {
     "data": {
      "text/plain": [
       "170"
      ]
     },
     "execution_count": 7,
     "metadata": {},
     "output_type": "execute_result"
    }
   ],
   "source": [
    "arraySuma"
   ]
  },
  {
   "cell_type": "markdown",
   "id": "c3286fa7",
   "metadata": {},
   "source": [
    "Introducción a Javascript, Quiz\n",
    "# Ejercicio 3 – creando un objeto\n",
    "Crear un objeto de nombre user con las propiedades nombre, apellidos, y edad, despues de crear el objeto crear una nueva variable llamada nombreCompleto de tipo string y guardar en esta variable el nombre y el apellido concatenados.\n",
    "\n",
    "\n",
    "Al finalizar enviar un archivo o imagen con lo descrito anteriormente a erik@academlo.com"
   ]
  },
  {
   "cell_type": "code",
   "execution_count": 8,
   "id": "9e4703bd",
   "metadata": {},
   "outputs": [],
   "source": [
    "var user = {\n",
    "    nombre: 'Raùl',\n",
    "    apellido: 'Sedano',\n",
    "    edad: 35\n",
    "}"
   ]
  },
  {
   "cell_type": "code",
   "execution_count": 9,
   "id": "eedbac8f",
   "metadata": {},
   "outputs": [],
   "source": [
    "var nombreCompleto = user.nombre + ' ' + user.apellido"
   ]
  },
  {
   "cell_type": "code",
   "execution_count": 10,
   "id": "eeb7f58e",
   "metadata": {},
   "outputs": [
    {
     "data": {
      "text/plain": [
       "'Raùl Sedano'"
      ]
     },
     "execution_count": 10,
     "metadata": {},
     "output_type": "execute_result"
    }
   ],
   "source": [
    "nombreCompleto"
   ]
  },
  {
   "cell_type": "markdown",
   "id": "8e996bf8",
   "metadata": {},
   "source": [
    "Introducción a Javascript, Quiz\n",
    "# Ejercicio 4: obteniendo correos de usuarios\n",
    "1.Crear un arreglo con 5 objetos, cada uno de estos objetos debe de tener las propiedades nombre,  \n",
    "email y edad,  con valores asignados por ti.\n",
    "\n",
    "2.Crear un arreglo de nombre correos y guardar todos los correos que existan en el arreglo del primer  \n",
    "paso(debes de acceder a los correos apoyandote en lo aprendido anteriormente).\n",
    "\n",
    "3.Enviar tu ejercicio al correo erik@academlo.com."
   ]
  },
  {
   "cell_type": "code",
   "execution_count": 11,
   "id": "6abb1219",
   "metadata": {},
   "outputs": [],
   "source": [
    "var estudiantes = [\n",
    "    {\n",
    "        nombre: 'Pedro',\n",
    "        email: 'pedro@gmail.com',\n",
    "        edad: 22\n",
    "    },\n",
    "    {\n",
    "        nombre: 'Luis',\n",
    "        email: 'luis@yahoo.com',\n",
    "        edad: 19\n",
    "    },\n",
    "    {\n",
    "        nombre: 'Gabriel',\n",
    "        email: 'gab98@hotmail.com',\n",
    "        edad: 24 \n",
    "    },\n",
    "    {\n",
    "        nombre:'Matias',\n",
    "        email: 'mati@academlo.com',\n",
    "        edad: 28\n",
    "    },\n",
    "    {\n",
    "        nombre: 'Carla',\n",
    "        email: 'carla77@uni.com',\n",
    "        edad: 30\n",
    "    }\n",
    "]"
   ]
  },
  {
   "cell_type": "code",
   "execution_count": 12,
   "id": "97dbd240",
   "metadata": {},
   "outputs": [],
   "source": [
    "var correos = [\n",
    "    {email:estudiantes[0].email},\n",
    "    {email:estudiantes[1].email},\n",
    "    {email:estudiantes[2].email},\n",
    "    {email:estudiantes[3].email},\n",
    "    {email:estudiantes[4].email}\n",
    "]"
   ]
  },
  {
   "cell_type": "code",
   "execution_count": 13,
   "id": "9b93f562",
   "metadata": {
    "scrolled": true
   },
   "outputs": [
    {
     "data": {
      "text/plain": [
       "[\n",
       "  { email: 'pedro@gmail.com' },\n",
       "  { email: 'luis@yahoo.com' },\n",
       "  { email: 'gab98@hotmail.com' },\n",
       "  { email: 'mati@academlo.com' },\n",
       "  { email: 'carla77@uni.com' }\n",
       "]"
      ]
     },
     "execution_count": 13,
     "metadata": {},
     "output_type": "execute_result"
    }
   ],
   "source": [
    "correos"
   ]
  },
  {
   "cell_type": "code",
   "execution_count": 14,
   "id": "d0158d04",
   "metadata": {},
   "outputs": [
    {
     "data": {
      "text/plain": [
       "{ email: 'pedro@gmail.com' }"
      ]
     },
     "execution_count": 14,
     "metadata": {},
     "output_type": "execute_result"
    }
   ],
   "source": [
    "correos[0]"
   ]
  },
  {
   "cell_type": "code",
   "execution_count": 15,
   "id": "993219a0",
   "metadata": {},
   "outputs": [
    {
     "data": {
      "text/plain": [
       "'carla77@uni.com'"
      ]
     },
     "execution_count": 15,
     "metadata": {},
     "output_type": "execute_result"
    }
   ],
   "source": [
    "correos[4].email"
   ]
  }
 ],
 "metadata": {
  "kernelspec": {
   "display_name": "JavaScript (Node.js)",
   "language": "javascript",
   "name": "javascript"
  },
  "language_info": {
   "file_extension": ".js",
   "mimetype": "application/javascript",
   "name": "javascript",
   "version": "12.22.5"
  }
 },
 "nbformat": 4,
 "nbformat_minor": 5
}
