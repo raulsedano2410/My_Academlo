{
 "cells": [
  {
   "cell_type": "markdown",
   "id": "d6fcd82c",
   "metadata": {},
   "source": [
    "### Mayor que\n",
    "```JS\n",
    "a > b // a mayor que b\n",
    "```"
   ]
  },
  {
   "cell_type": "code",
   "execution_count": 1,
   "id": "cd6daf06",
   "metadata": {},
   "outputs": [
    {
     "name": "stdout",
     "output_type": "stream",
     "text": [
      "true\n"
     ]
    }
   ],
   "source": [
    "console.log( 0 > -100 )"
   ]
  },
  {
   "cell_type": "code",
   "execution_count": 2,
   "id": "4d793f66",
   "metadata": {},
   "outputs": [
    {
     "name": "stdout",
     "output_type": "stream",
     "text": [
      "true\n"
     ]
    }
   ],
   "source": [
    "console.log( Infinity > 56780 )"
   ]
  },
  {
   "cell_type": "code",
   "execution_count": 3,
   "id": "25055883",
   "metadata": {},
   "outputs": [
    {
     "name": "stdout",
     "output_type": "stream",
     "text": [
      "false\n"
     ]
    }
   ],
   "source": [
    "console.log( \"A\" > \"a\" )"
   ]
  },
  {
   "cell_type": "code",
   "execution_count": 4,
   "id": "a9d9e52a",
   "metadata": {},
   "outputs": [
    {
     "name": "stdout",
     "output_type": "stream",
     "text": [
      "true\n"
     ]
    }
   ],
   "source": [
    "console.log( \"9\" > \"100000000000\" )"
   ]
  },
  {
   "cell_type": "code",
   "execution_count": 5,
   "id": "6112c269",
   "metadata": {},
   "outputs": [
    {
     "name": "stdout",
     "output_type": "stream",
     "text": [
      "false\n"
     ]
    }
   ],
   "source": [
    "console.log( undefined > null )"
   ]
  },
  {
   "cell_type": "code",
   "execution_count": 6,
   "id": "ba3c9cf3",
   "metadata": {},
   "outputs": [
    {
     "name": "stdout",
     "output_type": "stream",
     "text": [
      "true\n"
     ]
    }
   ],
   "source": [
    "console.log( true > false )"
   ]
  },
  {
   "cell_type": "markdown",
   "id": "f24dfbb5",
   "metadata": {},
   "source": [
    "### Operadores Logicos\n",
    "    \n",
    "- Reciben booleanos.\n",
    "- Devuelven como resultado un booleano.\n",
    "```JS\n",
    "|| // OR\n",
    "&& // AND\n",
    "!  // NOT/Negación\n",
    "```"
   ]
  },
  {
   "cell_type": "markdown",
   "id": "0d7d40a7",
   "metadata": {},
   "source": [
    "### NOT\n",
    "- Operador Unario. Va a invertir el verdadero valor de su operando\n",
    "- Sintaxis:  \n",
    "!datoBooleano\n",
    "```JS\n",
    "x      !x\n",
    "true   false\n",
    "false  true\n",
    "```"
   ]
  },
  {
   "cell_type": "code",
   "execution_count": 7,
   "id": "36f14995",
   "metadata": {},
   "outputs": [
    {
     "name": "stdout",
     "output_type": "stream",
     "text": [
      "false\n",
      "true\n"
     ]
    }
   ],
   "source": [
    "console.log( !true )\n",
    "console.log( !false )"
   ]
  },
  {
   "cell_type": "markdown",
   "id": "1b9bf720",
   "metadata": {},
   "source": [
    "### OR\n",
    "- Operador binario.\n",
    "- Sintaxis:\n",
    "```JS\n",
    "dato1 || dato2\n",
    "```\n",
    "|dato1  | dato2 |  dato1 \\|\\| dato2|\n",
    "|:---:|:---:|:---:|\n",
    "|true   | true  |      true|\n",
    "|true   | false |      true|\n",
    "|false  | true  |      true|\n",
    "|false  | false |      false|"
   ]
  },
  {
   "cell_type": "code",
   "execution_count": 8,
   "id": "d0b02d97",
   "metadata": {},
   "outputs": [
    {
     "data": {
      "text/plain": [
       "true"
      ]
     },
     "execution_count": 8,
     "metadata": {},
     "output_type": "execute_result"
    }
   ],
   "source": [
    "true || true"
   ]
  },
  {
   "cell_type": "code",
   "execution_count": 9,
   "id": "f6b58e34",
   "metadata": {},
   "outputs": [],
   "source": [
    "// AND"
   ]
  },
  {
   "cell_type": "code",
   "execution_count": 10,
   "id": "9b9b960d",
   "metadata": {},
   "outputs": [
    {
     "data": {
      "text/plain": [
       "false"
      ]
     },
     "execution_count": 10,
     "metadata": {},
     "output_type": "execute_result"
    }
   ],
   "source": [
    "true && false"
   ]
  },
  {
   "cell_type": "code",
   "execution_count": 11,
   "id": "e943151a",
   "metadata": {},
   "outputs": [
    {
     "data": {
      "text/plain": [
       "false"
      ]
     },
     "execution_count": 11,
     "metadata": {},
     "output_type": "execute_result"
    }
   ],
   "source": [
    "false && true"
   ]
  },
  {
   "cell_type": "code",
   "execution_count": 12,
   "id": "af8588b4",
   "metadata": {},
   "outputs": [
    {
     "data": {
      "text/plain": [
       "false"
      ]
     },
     "execution_count": 12,
     "metadata": {},
     "output_type": "execute_result"
    }
   ],
   "source": [
    "false && false"
   ]
  },
  {
   "cell_type": "markdown",
   "id": "d3d7e1af",
   "metadata": {},
   "source": [
    "### MENOR O IGUAL\n",
    "```JS\n",
    "<=// menor o igual\n",
    "(a < b) || (c == d) // menor o igual\n",
    "```"
   ]
  },
  {
   "cell_type": "code",
   "execution_count": 13,
   "id": "302321e3",
   "metadata": {},
   "outputs": [],
   "source": [
    "let a = 5\n",
    "let b = 10"
   ]
  },
  {
   "cell_type": "code",
   "execution_count": 14,
   "id": "23e40d00",
   "metadata": {
    "scrolled": true
   },
   "outputs": [
    {
     "name": "stdout",
     "output_type": "stream",
     "text": [
      "true\n"
     ]
    }
   ],
   "source": [
    "console.log( (a < b ) || (a === b))"
   ]
  },
  {
   "cell_type": "markdown",
   "id": "edb8d9d2",
   "metadata": {},
   "source": [
    "### MAYOR O IGUAL\n",
    "```JS\n",
    ">=// mayor o igual\n",
    "(a > b) || (c == d) // mayor o igual\n",
    "```"
   ]
  },
  {
   "cell_type": "code",
   "execution_count": 15,
   "id": "d4b0f4ff",
   "metadata": {},
   "outputs": [
    {
     "name": "stdout",
     "output_type": "stream",
     "text": [
      "true\n"
     ]
    }
   ],
   "source": [
    "a = 15\n",
    "b = 10\n",
    "\n",
    "console.log( (a > b ) || (a === b))"
   ]
  },
  {
   "cell_type": "markdown",
   "id": "8287a80d",
   "metadata": {},
   "source": [
    "### DIFERENCIA SIMPLE\n",
    "- Si NO cumplen la igualdad simple  \n",
    "  entonces la diferencia simple se cumple.\n",
    "```JS\n",
    "!= //Diferencia Simple\n",
    "> || <\n",
    "console.log( (a > b) || (a < b) ) // Son diferentes\n",
    "```"
   ]
  },
  {
   "cell_type": "code",
   "execution_count": 16,
   "id": "a04fe0f1",
   "metadata": {
    "scrolled": true
   },
   "outputs": [
    {
     "name": "stdout",
     "output_type": "stream",
     "text": [
      "false\n"
     ]
    }
   ],
   "source": [
    "console.log( '10' != 10 )"
   ]
  },
  {
   "cell_type": "code",
   "execution_count": 17,
   "id": "add9c5ca",
   "metadata": {},
   "outputs": [],
   "source": [
    "// false. porque ya se cumplio la igualdad simple"
   ]
  },
  {
   "cell_type": "markdown",
   "id": "ab3d7eab",
   "metadata": {},
   "source": [
    "### DIFERENCIA EXTRICTA\n",
    "- Si NO cumplen la igualdad estricta,  \n",
    "  entonces la diferencia estricta se cumple.\n",
    "```js\n",
    "!==\n",
    "```"
   ]
  },
  {
   "cell_type": "code",
   "execution_count": 18,
   "id": "54eaa88a",
   "metadata": {
    "scrolled": true
   },
   "outputs": [
    {
     "name": "stdout",
     "output_type": "stream",
     "text": [
      "true\n"
     ]
    }
   ],
   "source": [
    "console.log( '10' !== 10 )"
   ]
  },
  {
   "cell_type": "code",
   "execution_count": 19,
   "id": "61d86de0",
   "metadata": {},
   "outputs": [],
   "source": [
    "// true. Son distintos tipos de dato."
   ]
  },
  {
   "cell_type": "markdown",
   "id": "44855aa6",
   "metadata": {},
   "source": [
    "### AND\n",
    "- Operador binario. Va a retornar un true si AMBOS operandos son true  \n",
    "  en caso contrario, devolvera un false.\n",
    "```JS\n",
    "dato1 && dato2\n",
    "```\n",
    "|    dato1 |  dato2 |  dato1 && dato2|\n",
    "|  :---:  |:---:|:---:|\n",
    "|    true  |  true  |  true|\n",
    "|    true  |  false |  false|\n",
    "|    false |  true  |  false|\n",
    "|    false |  false |  false|"
   ]
  },
  {
   "cell_type": "code",
   "execution_count": 20,
   "id": "7b394369",
   "metadata": {},
   "outputs": [
    {
     "name": "stdout",
     "output_type": "stream",
     "text": [
      "true\n",
      "false\n",
      "false\n",
      "false\n"
     ]
    }
   ],
   "source": [
    "console.log( true && true )\n",
    "console.log( true && false )\n",
    "console.log( false && true )\n",
    "console.log( false && false )"
   ]
  },
  {
   "cell_type": "markdown",
   "id": "26d84532",
   "metadata": {},
   "source": [
    "#### Ejercicio\n",
    "- Inicio de   sesion"
   ]
  },
  {
   "cell_type": "code",
   "execution_count": 21,
   "id": "c82beadb",
   "metadata": {},
   "outputs": [],
   "source": [
    "let existeUsuario = false\n",
    "let contraseñaCorrecta = false"
   ]
  },
  {
   "cell_type": "code",
   "execution_count": 22,
   "id": "70d479e4",
   "metadata": {},
   "outputs": [
    {
     "name": "stdout",
     "output_type": "stream",
     "text": [
      "false\n"
     ]
    }
   ],
   "source": [
    "console.log( existeUsuario && contraseñaCorrecta )"
   ]
  },
  {
   "cell_type": "code",
   "execution_count": 23,
   "id": "2a64c459",
   "metadata": {},
   "outputs": [
    {
     "name": "stdout",
     "output_type": "stream",
     "text": [
      "false\n"
     ]
    }
   ],
   "source": [
    "existeUsuario = true\n",
    "contraseñaCorrecta = false\n",
    "\n",
    "console.log( existeUsuario && contraseñaCorrecta )"
   ]
  },
  {
   "cell_type": "markdown",
   "id": "89053736",
   "metadata": {},
   "source": [
    "```JS\n",
    "true && true -> true -> Inicia sesión de forma exitosa\n",
    "true && false -> false -> Mensaje de error: \"Contraseña incorrecta. ¿La olvidaste?\"\n",
    "false && true -> false -> mensaje de error\n",
    "false && false -> false -> \"Usuario no encontrado, por favor crea una cuenta. \"\n",
    "```"
   ]
  },
  {
   "cell_type": "code",
   "execution_count": 24,
   "id": "23e7ffce",
   "metadata": {},
   "outputs": [],
   "source": [
    "//Operadoers de corto sircuito"
   ]
  },
  {
   "cell_type": "code",
   "execution_count": 25,
   "id": "011cf9de",
   "metadata": {},
   "outputs": [
    {
     "name": "stdout",
     "output_type": "stream",
     "text": [
      "no esta vacio\n"
     ]
    }
   ],
   "source": [
    "console.log( \"no esta vacio\" || false )"
   ]
  },
  {
   "cell_type": "code",
   "execution_count": 26,
   "id": "6ef3fd27",
   "metadata": {},
   "outputs": [
    {
     "name": "stdout",
     "output_type": "stream",
     "text": [
      "\n"
     ]
    }
   ],
   "source": [
    "console.log( \"\" && \"segundo\" )"
   ]
  },
  {
   "cell_type": "markdown",
   "id": "a7275e00",
   "metadata": {},
   "source": [
    "### PROPIEDADES\n",
    "- Caracteristicas que posee un dato\n",
    "- Sintaxis:  \n",
    "  dato.propiedad\n"
   ]
  },
  {
   "cell_type": "markdown",
   "id": "e73734b9",
   "metadata": {},
   "source": [
    "### MÉTODOS\n",
    "- Sirven para realizar acciones definidas en un dato.\n",
    "- Sintaxis:\n",
    "```JS\n",
    "a.b(c)\n",
    "```\n",
    "- a = Cadena de texto\n",
    "- b = Nombre del metodo\n",
    "- c = Parametros del metodo"
   ]
  },
  {
   "cell_type": "code",
   "execution_count": 27,
   "id": "5ee65371",
   "metadata": {},
   "outputs": [],
   "source": [
    "let nombreUsuario = \"BrEnDA gOnZALeZ QueSaDA\""
   ]
  },
  {
   "cell_type": "code",
   "execution_count": 28,
   "id": "21fcbb13",
   "metadata": {},
   "outputs": [
    {
     "name": "stdout",
     "output_type": "stream",
     "text": [
      "brenda gonzalez quesada\n"
     ]
    }
   ],
   "source": [
    "let nombreEnMinusculas = nombreUsuario.toLowerCase()\n",
    "console.log( nombreEnMinusculas )"
   ]
  },
  {
   "cell_type": "code",
   "execution_count": 29,
   "id": "e6c5c039",
   "metadata": {},
   "outputs": [
    {
     "name": "stdout",
     "output_type": "stream",
     "text": [
      "BRENDA GONZALEZ QUESADA\n"
     ]
    }
   ],
   "source": [
    "let nombreEnMayusculas = nombreUsuario.toUpperCase()\n",
    "console.log( nombreEnMayusculas )"
   ]
  },
  {
   "cell_type": "code",
   "execution_count": 30,
   "id": "da30d3a9",
   "metadata": {},
   "outputs": [
    {
     "name": "stdout",
     "output_type": "stream",
     "text": [
      "4\n"
     ]
    }
   ],
   "source": [
    "let cadenaDeTexto = \"los osos escandalosos\"\n",
    "let indiceCoincidencia = cadenaDeTexto.indexOf( \"osos\" )\n",
    "console.log( indiceCoincidencia )"
   ]
  },
  {
   "cell_type": "code",
   "execution_count": 31,
   "id": "65763b3d",
   "metadata": {},
   "outputs": [
    {
     "name": "stdout",
     "output_type": "stream",
     "text": [
      "-1\n"
     ]
    }
   ],
   "source": [
    "let ultimaCoincidencia = cadenaDeTexto.lastIndexOf( \"osos\", 0 )\n",
    "console.log( ultimaCoincidencia )"
   ]
  },
  {
   "cell_type": "code",
   "execution_count": 32,
   "id": "b0aa3dfd",
   "metadata": {},
   "outputs": [
    {
     "name": "stdout",
     "output_type": "stream",
     "text": [
      "osos escand\n"
     ]
    }
   ],
   "source": [
    "let pedazoCadena = cadenaDeTexto.substring( 4, 15 )\n",
    "console.log( pedazoCadena )"
   ]
  },
  {
   "cell_type": "code",
   "execution_count": 33,
   "id": "72c50131",
   "metadata": {},
   "outputs": [
    {
     "name": "stdout",
     "output_type": "stream",
     "text": [
      "osos escandalosos\n"
     ]
    }
   ],
   "source": [
    "let pedazoCadenaDos = cadenaDeTexto.substring( 4 )\n",
    "console.log( pedazoCadenaDos )"
   ]
  },
  {
   "cell_type": "markdown",
   "id": "0155b69f",
   "metadata": {},
   "source": [
    "## Tarea Moral\n",
    "- Obtener la longitud de la última palabra de una frase cualquiera."
   ]
  },
  {
   "cell_type": "code",
   "execution_count": 34,
   "id": "24dc9051",
   "metadata": {},
   "outputs": [],
   "source": [
    "let fraseCualquiera = \"Esta es una frase cualquiera\""
   ]
  },
  {
   "cell_type": "markdown",
   "id": "c0955e33",
   "metadata": {},
   "source": [
    "- Paso 1\n",
    "- Cortamos las palabras en los espacios con el metodo .split( \" \" )  \n",
    "  y obendremos un array de 5 palabras"
   ]
  },
  {
   "cell_type": "code",
   "execution_count": 35,
   "id": "ce7c830f",
   "metadata": {
    "scrolled": true
   },
   "outputs": [
    {
     "data": {
      "text/plain": [
       "[ 'Esta', 'es', 'una', 'frase', 'cualquiera' ]"
      ]
     },
     "execution_count": 35,
     "metadata": {},
     "output_type": "execute_result"
    }
   ],
   "source": [
    "\n",
    "var resultado = fraseCualquiera.split(\" \")\n",
    "\n",
    "resultado\n"
   ]
  },
  {
   "cell_type": "markdown",
   "id": "742c1671",
   "metadata": {},
   "source": [
    "- Seleleccionamos el ultimo elemento con el uso de .splice( -1 )  \n",
    "  Esto nos da un elemento como array(lista de 1 elemento)."
   ]
  },
  {
   "cell_type": "code",
   "execution_count": 36,
   "id": "2084587c",
   "metadata": {
    "scrolled": true
   },
   "outputs": [
    {
     "data": {
      "text/plain": [
       "[ 'cualquiera' ]"
      ]
     },
     "execution_count": 36,
     "metadata": {},
     "output_type": "execute_result"
    }
   ],
   "source": [
    "\n",
    "var resultado = resultado.splice( -1 )\n",
    "\n",
    "resultado\n"
   ]
  },
  {
   "cell_type": "markdown",
   "id": "539a86bc",
   "metadata": {},
   "source": [
    "- Ahora lo modificamos a una cadena simple con el metodo String( )."
   ]
  },
  {
   "cell_type": "code",
   "execution_count": 37,
   "id": "f2034641",
   "metadata": {},
   "outputs": [
    {
     "data": {
      "text/plain": [
       "'cualquiera'"
      ]
     },
     "execution_count": 37,
     "metadata": {},
     "output_type": "execute_result"
    }
   ],
   "source": [
    "\n",
    "var resultado = String(resultado)\n",
    "resultado"
   ]
  },
  {
   "cell_type": "markdown",
   "id": "06cfaa3c",
   "metadata": {},
   "source": [
    "- Ahora medimos la longitud de la cadena con el uso de .length."
   ]
  },
  {
   "cell_type": "code",
   "execution_count": 38,
   "id": "41d04c6e",
   "metadata": {},
   "outputs": [
    {
     "data": {
      "text/plain": [
       "10"
      ]
     },
     "execution_count": 38,
     "metadata": {},
     "output_type": "execute_result"
    }
   ],
   "source": [
    "\n",
    "var resultado = resultado.length\n",
    "\n",
    "resultado\n"
   ]
  },
  {
   "cell_type": "markdown",
   "id": "91a03621",
   "metadata": {},
   "source": [
    "- Este es el resultado usando todo lo mencionado."
   ]
  },
  {
   "cell_type": "code",
   "execution_count": 39,
   "id": "505d5227",
   "metadata": {},
   "outputs": [
    {
     "name": "stdout",
     "output_type": "stream",
     "text": [
      "10\n"
     ]
    }
   ],
   "source": [
    "\n",
    "console.log(String(fraseCualquiera.split(\" \").splice(-1)).length)\n"
   ]
  }
 ],
 "metadata": {
  "kernelspec": {
   "display_name": "JavaScript (Node.js)",
   "language": "javascript",
   "name": "javascript"
  },
  "language_info": {
   "file_extension": ".js",
   "mimetype": "application/javascript",
   "name": "javascript",
   "version": "16.15.0"
  }
 },
 "nbformat": 4,
 "nbformat_minor": 5
}
