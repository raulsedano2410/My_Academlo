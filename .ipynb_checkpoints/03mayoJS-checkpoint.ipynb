{
 "cells": [
  {
   "cell_type": "markdown",
   "id": "34898bfd",
   "metadata": {},
   "source": [
    "Analogia de una variable"
   ]
  },
  {
   "cell_type": "markdown",
   "id": "d13f2869",
   "metadata": {},
   "source": [
    "Que son palabras reservadas:\n",
    "\n",
    "...\n",
    "\n",
    "val, let, const\n",
    "\n",
    "var fue la primera variable que se introdujo, var crea variables pero es una manera obsoleta de crear variables\n",
    "\n",
    "por buneas practicas devemos saber que  'var' es obsoleto y no se deve usar en nuestros proyectos.\n",
    "\n"
   ]
  },
  {
   "cell_type": "code",
   "execution_count": 2,
   "id": "108f5682",
   "metadata": {},
   "outputs": [
    {
     "name": "stdout",
     "output_type": "stream",
     "text": [
      "Otro valor\n"
     ]
    }
   ],
   "source": [
    "var nombreUsuario = \"brenda\"\n",
    "\n",
    "var nombreUsuario = \"Otro valor\"\n",
    "\n",
    "console.log(nombreUsuario)"
   ]
  },
  {
   "cell_type": "code",
   "execution_count": 3,
   "id": "c1a2f5d6",
   "metadata": {},
   "outputs": [
    {
     "ename": "SyntaxError",
     "evalue": "Identifier 'nombreAlumno' has already been declared",
     "output_type": "error",
     "traceback": [
      "evalmachine.<anonymous>:3",
      "let nombreAlumno = \"Fernando De Laurentis\"",
      "    ^",
      "",
      "SyntaxError: Identifier 'nombreAlumno' has already been declared",
      "    at new Script (node:vm:100:7)",
      "    at createScript (node:vm:257:10)",
      "    at Object.runInThisContext (node:vm:305:10)",
      "    at run ([eval]:1020:15)",
      "    at onRunRequest ([eval]:864:18)",
      "    at onMessage ([eval]:828:13)",
      "    at process.emit (node:events:527:28)",
      "    at emit (node:internal/child_process:938:14)",
      "    at processTicksAndRejections (node:internal/process/task_queues:84:21)"
     ]
    }
   ],
   "source": [
    "let nombreAlumno = \"Fernando\"\n",
    "\n",
    "let nombreAlumno = \"Fernando De Laurentis\""
   ]
  },
  {
   "cell_type": "markdown",
   "id": "e64857cf",
   "metadata": {},
   "source": [
    "# Tipos de datos\n",
    "Datos primitivos\n",
    "- String / Cadenas de texto\n",
    "- Number / Numericos\n",
    "- Booleanos\n",
    "- Null\n",
    "- Undefined"
   ]
  },
  {
   "cell_type": "markdown",
   "id": "e9ca4825",
   "metadata": {},
   "source": [
    "Cadena de texto"
   ]
  },
  {
   "cell_type": "code",
   "execution_count": 4,
   "id": "cba64928",
   "metadata": {},
   "outputs": [
    {
     "data": {
      "text/plain": [
       "'Esta es unacadena de texto'"
      ]
     },
     "execution_count": 4,
     "metadata": {},
     "output_type": "execute_result"
    }
   ],
   "source": [
    "\"Esta es unacadena de texto\" // Los espacios son considerados cadena de texto\n"
   ]
  },
  {
   "cell_type": "markdown",
   "id": "99bab320",
   "metadata": {},
   "source": [
    "puedo utilizar tres tipos d comillas distintas"
   ]
  },
  {
   "cell_type": "code",
   "execution_count": 6,
   "id": "430128a5",
   "metadata": {},
   "outputs": [
    {
     "ename": "TypeError",
     "evalue": "\"Hola, como estan?\" is not a function",
     "output_type": "error",
     "traceback": [
      "evalmachine.<anonymous>:3",
      "`Hola a todos!`//Backticks, generan un template string",
      "^",
      "",
      "TypeError: \"Hola, como estan?\" is not a function",
      "    at evalmachine.<anonymous>:3:1",
      "    at Script.runInThisContext (node:vm:129:12)",
      "    at Object.runInThisContext (node:vm:305:38)",
      "    at run ([eval]:1020:15)",
      "    at onRunRequest ([eval]:864:18)",
      "    at onMessage ([eval]:828:13)",
      "    at process.emit (node:events:527:28)",
      "    at emit (node:internal/child_process:938:14)",
      "    at processTicksAndRejections (node:internal/process/task_queues:84:21)"
     ]
    }
   ],
   "source": [
    "\"Hola mundo!\"//comillas dobles\n",
    "'Hola, como estan?'//Comillas simples\n",
    "`Hola a todos!`//Backticks, generan un template string"
   ]
  },
  {
   "cell_type": "code",
   "execution_count": 7,
   "id": "e0adf1c1",
   "metadata": {},
   "outputs": [
    {
     "name": "stdout",
     "output_type": "stream",
     "text": [
      "El resultado de la suma es 5\n"
     ]
    }
   ],
   "source": [
    "console.log(`El resultado de la suma es ${ 2+3 }`)"
   ]
  },
  {
   "cell_type": "code",
   "execution_count": 8,
   "id": "08192d13",
   "metadata": {},
   "outputs": [
    {
     "name": "stdout",
     "output_type": "stream",
     "text": [
      "El resultado de la suma es ${ 2+3 }\n"
     ]
    }
   ],
   "source": [
    "console.log('El resultado de la suma es ${ 2+3 }')"
   ]
  },
  {
   "cell_type": "code",
   "execution_count": 23,
   "id": "08a2daa5",
   "metadata": {
    "collapsed": true
   },
   "outputs": [
    {
     "ename": "SyntaxError",
     "evalue": "Identifier 'cadenaDeTexto' has already been declared",
     "output_type": "error",
     "traceback": [
      "evalmachine.<anonymous>:1",
      "let cadenaDeTexto = \"¡Hola mundo!\"",
      "^",
      "",
      "SyntaxError: Identifier 'cadenaDeTexto' has already been declared",
      "    at Script.runInThisContext (node:vm:129:12)",
      "    at Object.runInThisContext (node:vm:305:38)",
      "    at run ([eval]:1020:15)",
      "    at onRunRequest ([eval]:864:18)",
      "    at onMessage ([eval]:828:13)",
      "    at process.emit (node:events:527:28)",
      "    at emit (node:internal/child_process:938:14)",
      "    at processTicksAndRejections (node:internal/process/task_queues:84:21)"
     ]
    }
   ],
   "source": [
    "let cadenaDeTexto = \"¡Hola mundo!\"\n",
    "\n",
    "//Simbolos especiales ! ¿ , . $ #, los espacios tambien cuentan, a, b, A, B, 10, 100"
   ]
  },
  {
   "cell_type": "code",
   "execution_count": 13,
   "id": "87427d80",
   "metadata": {},
   "outputs": [],
   "source": [
    "\n",
    "//Indices\n",
    "// 0  1  2  3  4  5  6  7  8  9 10  11 12\n",
    "// ¡  H  o  l  a     m  u  n  d  o  !  !"
   ]
  },
  {
   "cell_type": "code",
   "execution_count": 14,
   "id": "af2026f1",
   "metadata": {},
   "outputs": [
    {
     "name": "stdout",
     "output_type": "stream",
     "text": [
      "l\n"
     ]
    }
   ],
   "source": [
    "//Cadena de texto[indice]\n",
    "let caracterIndice3 = cadenaDeTexto[3]\n",
    "console.log( caracterIndice3 )"
   ]
  },
  {
   "cell_type": "code",
   "execution_count": 15,
   "id": "ee8ee151",
   "metadata": {},
   "outputs": [
    {
     "name": "stdout",
     "output_type": "stream",
     "text": [
      "12\n"
     ]
    }
   ],
   "source": [
    "//Propiedades--> Caracteriza el dato\n",
    "\n",
    "//length (Longitud) --> cantidad total de caracteres que conforman a una cadena de texto\n",
    "\n",
    "//dato.propiedad\n",
    "\n",
    "let longitudCadenaDeTexto = cadenaDeTexto.length\n",
    "console.log( longitudCadenaDeTexto )"
   ]
  },
  {
   "cell_type": "code",
   "execution_count": 26,
   "id": "a71326de",
   "metadata": {},
   "outputs": [],
   "source": [
    "let numeroString = \"100\""
   ]
  },
  {
   "cell_type": "code",
   "execution_count": null,
   "id": "e6f445c8",
   "metadata": {},
   "outputs": [],
   "source": [
    "//Number / Numero\n",
    "\n",
    "// Representran números enteros, flotantes(con decimal), positivos y negativos\n",
    "\n",
    "let numeroEntero = 5\n",
    "let numeroFlotante = 5.8\n",
    "let numeroNegativo = -10"
   ]
  },
  {
   "cell_type": "code",
   "execution_count": null,
   "id": "ddf0e9ba",
   "metadata": {},
   "outputs": [],
   "source": [
    "//Tipos de numeros especiales\n",
    "//Infinity\n",
    "//-Infinity\n",
    "//NaN --> Not a Number"
   ]
  },
  {
   "cell_type": "code",
   "execution_count": 35,
   "id": "60c16578",
   "metadata": {},
   "outputs": [
    {
     "name": "stdout",
     "output_type": "stream",
     "text": [
      "NaN\n",
      "NaN\n",
      "-50\n",
      "Infinity\n",
      "0\n"
     ]
    }
   ],
   "source": [
    "console.log(\"esta es un string\" * 5)\n",
    "console.log(\"esta es un string\" * \"otro string\")\n",
    "console.log(numeroEntero * numeroNegativo)//5 * -10\n",
    "console.log(100/0)\n",
    "console.log(0/100)"
   ]
  },
  {
   "cell_type": "code",
   "execution_count": 38,
   "id": "5ecf4871",
   "metadata": {
    "collapsed": true
   },
   "outputs": [
    {
     "ename": "SyntaxError",
     "evalue": "Identifier 'booleanoTrue' has already been declared",
     "output_type": "error",
     "traceback": [
      "evalmachine.<anonymous>:1",
      "//Booleanos",
      "^",
      "",
      "SyntaxError: Identifier 'booleanoTrue' has already been declared",
      "    at Script.runInThisContext (node:vm:129:12)",
      "    at Object.runInThisContext (node:vm:305:38)",
      "    at run ([eval]:1020:15)",
      "    at onRunRequest ([eval]:864:18)",
      "    at onMessage ([eval]:828:13)",
      "    at process.emit (node:events:527:28)",
      "    at emit (node:internal/child_process:938:14)",
      "    at processTicksAndRejections (node:internal/process/task_queues:84:21)"
     ]
    }
   ],
   "source": [
    "//Booleanos\n",
    "//Nos confirman si es verdadero o falso\n",
    "//Tienen 2 valores: true y false\n",
    "\n",
    "let booleanoTrue = true\n",
    "let booleanoFalse = false\n",
    "let esquemaDeVacunacionCompleto = true\n",
    "let esquemaDeVacunacionCompleto = true"
   ]
  },
  {
   "cell_type": "code",
   "execution_count": 37,
   "id": "abe4137a",
   "metadata": {},
   "outputs": [
    {
     "name": "stdout",
     "output_type": "stream",
     "text": [
      "true\n",
      "false\n"
     ]
    }
   ],
   "source": [
    "console.log(10 < 15)\n",
    "console.log(10 < -15)"
   ]
  },
  {
   "cell_type": "code",
   "execution_count": 40,
   "id": "fb36f28d",
   "metadata": {},
   "outputs": [
    {
     "data": {
      "text/plain": [
       "null"
      ]
     },
     "execution_count": 40,
     "metadata": {},
     "output_type": "execute_result"
    }
   ],
   "source": [
    "//Null y Undefined --> ausencia de valor significativo\n",
    "\n",
    "let nombreDelMejorAlumno = null\n",
    "nombreDelMejorAlumno"
   ]
  },
  {
   "cell_type": "code",
   "execution_count": 41,
   "id": "e576aacc",
   "metadata": {},
   "outputs": [
    {
     "data": {
      "text/plain": [
       "'Juanito Perez'"
      ]
     },
     "execution_count": 41,
     "metadata": {},
     "output_type": "execute_result"
    }
   ],
   "source": [
    "c = \"Juanito Perez\"\n",
    "nombreDelMejorAlumno"
   ]
  },
  {
   "cell_type": "code",
   "execution_count": 42,
   "id": "9e39c771",
   "metadata": {},
   "outputs": [
    {
     "name": "stdout",
     "output_type": "stream",
     "text": [
      "Juanito Perez\n",
      "undefined\n"
     ]
    }
   ],
   "source": [
    " let variableSinIniciar\n",
    " console.log(nombreDelMejorAlumno)\n",
    " console.log(variableSinIniciar)"
   ]
  },
  {
   "cell_type": "code",
   "execution_count": 43,
   "id": "092d488d",
   "metadata": {},
   "outputs": [
    {
     "name": "stdout",
     "output_type": "stream",
     "text": [
      "10\n",
      "NaN\n"
     ]
    }
   ],
   "source": [
    " console.log(10 - null)\n",
    " console.log(10 + undefined)"
   ]
  },
  {
   "cell_type": "code",
   "execution_count": 44,
   "id": "d8f9686f",
   "metadata": {},
   "outputs": [
    {
     "name": "stdout",
     "output_type": "stream",
     "text": [
      "number\n"
     ]
    }
   ],
   "source": [
    "//Operador typeof\n",
    "\n",
    " console.log(typeof(100))"
   ]
  },
  {
   "cell_type": "code",
   "execution_count": 46,
   "id": "fb0daa67",
   "metadata": {},
   "outputs": [
    {
     "name": "stdout",
     "output_type": "stream",
     "text": [
      "boolean\n"
     ]
    }
   ],
   "source": [
    " console.log(typeof(5 < 6))"
   ]
  },
  {
   "cell_type": "code",
   "execution_count": 47,
   "id": "857fe180",
   "metadata": {},
   "outputs": [
    {
     "name": "stdout",
     "output_type": "stream",
     "text": [
      "number\n"
     ]
    }
   ],
   "source": [
    " console.log(typeof(10 - null))"
   ]
  },
  {
   "cell_type": "code",
   "execution_count": 49,
   "id": "d554a637",
   "metadata": {},
   "outputs": [
    {
     "name": "stdout",
     "output_type": "stream",
     "text": [
      "number\n"
     ]
    }
   ],
   "source": [
    " console.log(typeof(10 + undefined))"
   ]
  },
  {
   "cell_type": "code",
   "execution_count": null,
   "id": "ccd53e69",
   "metadata": {},
   "outputs": [],
   "source": [
    "//Declarar 3 variables distintas.\n",
    "//En una van a guardar nombre de pila\n",
    "//En otra sus apellidos\n",
    "//En la ultima su edad\n",
    "//Van a crear una cadena de texto donde se van a presentar usando los 3 datos almacenados en las variables:\n",
    "//ejempl:\n",
    "//Hola mundo! me llamo <Fulanito> <perez>, soy de <pais> y tengo <27> años\n",
    "//esta presentacion la mostraran por la terminal"
   ]
  }
 ],
 "metadata": {
  "kernelspec": {
   "display_name": "JavaScript (Node.js)",
   "language": "javascript",
   "name": "javascript"
  },
  "language_info": {
   "file_extension": ".js",
   "mimetype": "application/javascript",
   "name": "javascript",
   "version": "16.15.0"
  }
 },
 "nbformat": 4,
 "nbformat_minor": 5
}
