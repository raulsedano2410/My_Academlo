{
 "cells": [
  {
   "cell_type": "markdown",
   "id": "865c9be5",
   "metadata": {},
   "source": [
    "## Aprendiendo metodos."
   ]
  },
  {
   "cell_type": "code",
   "execution_count": 1,
   "id": "d9f10f3f",
   "metadata": {},
   "outputs": [],
   "source": [
    "let cadenaDeTexto = \"A la instructora le gustan mucho los gatos\""
   ]
  },
  {
   "cell_type": "markdown",
   "id": "504352b4",
   "metadata": {},
   "source": [
    "- slice()\n",
    "- Permite extraer un fragmento de la cadena de texto"
   ]
  },
  {
   "cell_type": "code",
   "execution_count": 2,
   "id": "b1bebafe",
   "metadata": {},
   "outputs": [
    {
     "name": "stdout",
     "output_type": "stream",
     "text": [
      "uctor\n"
     ]
    }
   ],
   "source": [
    "let resultadoSlice = cadenaDeTexto.slice( 10, 15 )\n",
    "console.log( resultadoSlice )"
   ]
  },
  {
   "cell_type": "markdown",
   "id": "e38c94af",
   "metadata": {},
   "source": [
    "### Ejercicio: \n",
    "#### Reemplar la ultima palabra de una frase por \"gato\"\n",
    "- Identificar donde esta la ultima palabra -> vamos a apoyarnos del ultimo espacio -> puedo apoyarme de  \n",
    "  lastIndexOf()\n",
    "- Vamos a quitar esa ultima palabra de la frase -> slice para extraer la frase sin la palabra\n",
    "- Una vez que tenemos la frase SIN la ultima palabra, vamos a añadir la palabra \"gato\" -> concatenar"
   ]
  },
  {
   "cell_type": "code",
   "execution_count": 3,
   "id": "84332e36",
   "metadata": {},
   "outputs": [],
   "source": [
    "let fraseCualquiera = \"Es un día muy bonito\""
   ]
  },
  {
   "cell_type": "code",
   "execution_count": 4,
   "id": "dd9a56fd",
   "metadata": {},
   "outputs": [],
   "source": [
    "let indiceUltimoEspacio = fraseCualquiera.lastIndexOf( \" \" ) + 1"
   ]
  },
  {
   "cell_type": "code",
   "execution_count": 5,
   "id": "bedf32fc",
   "metadata": {
    "scrolled": true
   },
   "outputs": [
    {
     "name": "stdout",
     "output_type": "stream",
     "text": [
      "14\n"
     ]
    }
   ],
   "source": [
    "console.log( indiceUltimoEspacio )"
   ]
  },
  {
   "cell_type": "code",
   "execution_count": 6,
   "id": "55e306c3",
   "metadata": {},
   "outputs": [
    {
     "name": "stdout",
     "output_type": "stream",
     "text": [
      "Es un día muy \n"
     ]
    }
   ],
   "source": [
    "let fraseSinUltimaPalabra = fraseCualquiera.slice( 0, indiceUltimoEspacio ) \n",
    "console.log( fraseSinUltimaPalabra )"
   ]
  },
  {
   "cell_type": "code",
   "execution_count": 7,
   "id": "75658c16",
   "metadata": {},
   "outputs": [
    {
     "name": "stdout",
     "output_type": "stream",
     "text": [
      "Es un día muy gato\n"
     ]
    }
   ],
   "source": [
    "let nuevaFrase = fraseSinUltimaPalabra.concat( \"gato\" )\n",
    "console.log( nuevaFrase )"
   ]
  },
  {
   "cell_type": "markdown",
   "id": "6929f4fc",
   "metadata": {},
   "source": [
    "- Una ves mas!"
   ]
  },
  {
   "cell_type": "code",
   "execution_count": 8,
   "id": "13a003c8",
   "metadata": {},
   "outputs": [],
   "source": [
    "let fraseConPalabrasRepetidas = \"El arbol es muy azul y el color del cielo es azul\""
   ]
  },
  {
   "cell_type": "code",
   "execution_count": 9,
   "id": "755e9b4c",
   "metadata": {},
   "outputs": [
    {
     "name": "stdout",
     "output_type": "stream",
     "text": [
      "El arbol es muy gato y el color del cielo es azul\n"
     ]
    }
   ],
   "source": [
    "let fraseConReplace = fraseConPalabrasRepetidas.replace( \"azul\", \"gato\" )\n",
    "console.log( fraseConReplace )"
   ]
  },
  {
   "cell_type": "markdown",
   "id": "b0fa416d",
   "metadata": {},
   "source": [
    "- Una ves mas!"
   ]
  },
  {
   "cell_type": "code",
   "execution_count": 10,
   "id": "66663251",
   "metadata": {},
   "outputs": [],
   "source": [
    "let fraseCualquiera2 = \"Otra frase cualquiera\""
   ]
  },
  {
   "cell_type": "code",
   "execution_count": 11,
   "id": "32720b80",
   "metadata": {
    "scrolled": true
   },
   "outputs": [
    {
     "name": "stdout",
     "output_type": "stream",
     "text": [
      "11\n"
     ]
    }
   ],
   "source": [
    "let indiceUltimoEspacio2 = fraseCualquiera2.lastIndexOf( \" \" ) + 1\n",
    "console.log( indiceUltimoEspacio2 )"
   ]
  },
  {
   "cell_type": "code",
   "execution_count": 12,
   "id": "0bdefe60",
   "metadata": {},
   "outputs": [
    {
     "name": "stdout",
     "output_type": "stream",
     "text": [
      "Otra frase \n"
     ]
    }
   ],
   "source": [
    "let fraseSinUltimaPalabra2 = fraseCualquiera2.slice( 0, indiceUltimoEspacio2 ) \n",
    "console.log( fraseSinUltimaPalabra2 )"
   ]
  },
  {
   "cell_type": "code",
   "execution_count": 13,
   "id": "d826b43a",
   "metadata": {},
   "outputs": [
    {
     "name": "stdout",
     "output_type": "stream",
     "text": [
      "Otra frase gato\n"
     ]
    }
   ],
   "source": [
    "let nuevaFrase2 = fraseSinUltimaPalabra2.concat( \"gato\" )\n",
    "console.log( nuevaFrase2 )"
   ]
  },
  {
   "cell_type": "markdown",
   "id": "e7504232",
   "metadata": {},
   "source": [
    "### DECLARACION DE FUNCIONES\n",
    "```JavaScript\n",
    "function nombreDeLaFuncion( parametros ){\n",
    "    //intrucciones / codigo que se va a encarga de llevar a cabo la tarea encargada.\n",
    "}\n",
    "```"
   ]
  },
  {
   "cell_type": "code",
   "execution_count": 14,
   "id": "c35688ae",
   "metadata": {},
   "outputs": [],
   "source": [
    "var variableGlobal = \"Soy global\"\n",
    "let otraVariableGlobal = \"Tambien soy global\""
   ]
  },
  {
   "cell_type": "code",
   "execution_count": 15,
   "id": "6a7edc58",
   "metadata": {},
   "outputs": [],
   "source": [
    "function reemplazarUltimaPalabra( fraseCualquiera ){\n",
    "    //trim()\n",
    "    let indiceUltimoEspacio = fraseCualquiera.lastIndexOf( \" \" ) + 1\n",
    "\n",
    "    let fraseSinUltimaPalabra = fraseCualquiera.slice( 0, indiceUltimoEspacio ) \n",
    "\n",
    "    let nuevaFrase = fraseSinUltimaPalabra.concat( \"gato\" )\n",
    "\n",
    "    return nuevaFrase\n",
    "    console.log( \"console log luego del return\" )\n",
    "}"
   ]
  },
  {
   "cell_type": "code",
   "execution_count": 16,
   "id": "1b1939b7",
   "metadata": {},
   "outputs": [
    {
     "name": "stdout",
     "output_type": "stream",
     "text": [
      "Esta es la frase que se va a utilizar en la gato\n"
     ]
    }
   ],
   "source": [
    "console.log( reemplazarUltimaPalabra( \"Esta es la frase que se va a utilizar en la funcion\" ) )"
   ]
  },
  {
   "cell_type": "code",
   "execution_count": 17,
   "id": "c36e04b5",
   "metadata": {},
   "outputs": [
    {
     "name": "stdout",
     "output_type": "stream",
     "text": [
      "Esta es otra gato\n"
     ]
    }
   ],
   "source": [
    "let valorDeRetorno = reemplazarUltimaPalabra( \"Esta es otra frase\" )\n",
    "console.log( valorDeRetorno )"
   ]
  },
  {
   "cell_type": "markdown",
   "id": "d418cabe",
   "metadata": {},
   "source": [
    "### Scope o alcanse\n",
    "- Hace referencia al lugar del programa (en que parte del archivo) vive una variable y por lo tanto, donde podra ser accedida. \n",
    "- var,  se comporta de forma global casi siempre. La unica excepcion es dentro de funciones.\n",
    "- let,  siempre es local dentro de bloques de codigo al igual que const\n",
    "\n",
    "### ¿Cuando creo variables globales y cuando locales? \n",
    "- let puede ser global o local, DEPENDIENDO DE DONDE SE DECLARE\n",
    "\n",
    "### Globales\n",
    "- Utilizadas por TODO el programa, muchas funciones pueden utilizarlas\n",
    "\n",
    "```JS\n",
    "if (true) {\n",
    "    // este bloque if no crea un scope\n",
    "    // la variable nombre es global por el uso de la keyword 'var'\n",
    "    var nombre = 'Juan';\n",
    "    // preferencias se encuentra en el scope local por el uso de la keyword 'let'\n",
    "    let preferencias = 'Codear';\n",
    "    // skills también es una scope local por el uso de la keyword 'const'\n",
    "    const skills = 'Java';\n",
    "}\n",
    "console.log(nombre); // logs 'Juan'\n",
    "console.log(preferencias); // Uncaught ReferenceError: preferencias is not defined\n",
    "console.log(skills); // Uncaught ReferenceError: skills is not defined\n",
    "```"
   ]
  },
  {
   "cell_type": "code",
   "execution_count": 18,
   "id": "fd6f2753",
   "metadata": {},
   "outputs": [
    {
     "name": "stdout",
     "output_type": "stream",
     "text": [
      "Hola Raul. Bienvenido!\n",
      "Hola Raul. Bienvenido!\n"
     ]
    }
   ],
   "source": [
    "let contador = 0\n",
    "\n",
    "\n",
    "function saludarUsuario( nombre ){\n",
    "    console.log( `Hola ${nombre}. Bienvenido!` )\n",
    "    return `Hola ${nombre}. Bienvenido!`\n",
    "}\n",
    "\n",
    "let valorRetornado = saludarUsuario( \"Raul\" )\n",
    "console.log( valorRetornado )\n"
   ]
  }
 ],
 "metadata": {
  "kernelspec": {
   "display_name": "JavaScript (Node.js)",
   "language": "javascript",
   "name": "javascript"
  },
  "language_info": {
   "file_extension": ".js",
   "mimetype": "application/javascript",
   "name": "javascript",
   "version": "16.15.0"
  }
 },
 "nbformat": 4,
 "nbformat_minor": 5
}
